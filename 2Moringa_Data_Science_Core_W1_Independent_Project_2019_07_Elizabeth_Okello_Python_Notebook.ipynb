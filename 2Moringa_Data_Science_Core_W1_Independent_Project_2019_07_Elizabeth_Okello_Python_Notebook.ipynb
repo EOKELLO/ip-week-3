{
  "nbformat": 4,
  "nbformat_minor": 0,
  "metadata": {
    "colab": {
      "name": "2Moringa_Data_Science_Core_W1_Independent_Project_2019_07_Elizabeth_Okello_Python Notebook",
      "version": "0.3.2",
      "provenance": [],
      "collapsed_sections": [],
      "include_colab_link": true
    },
    "kernelspec": {
      "name": "python3",
      "display_name": "Python 3"
    }
  },
  "cells": [
    {
      "cell_type": "markdown",
      "metadata": {
        "id": "view-in-github",
        "colab_type": "text"
      },
      "source": [
        "<a href=\"https://colab.research.google.com/github/EOKELLO/ip-week-3/blob/master/2Moringa_Data_Science_Core_W1_Independent_Project_2019_07_Elizabeth_Okello_Python_Notebook.ipynb\" target=\"_parent\"><img src=\"https://colab.research.google.com/assets/colab-badge.svg\" alt=\"Open In Colab\"/></a>"
      ]
    },
    {
      "cell_type": "code",
      "metadata": {
        "id": "BRU2vCZajm3c",
        "colab_type": "code",
        "colab": {}
      },
      "source": [
        "#import important libraries\n",
        "import pandas as pd\n",
        "import numpy as np\n",
        "import seaborn as sns\n",
        "import matplotlib.pyplot as plt\n",
        "import sklearn\n",
        "from sklearn.model_selection import train_test_split\n",
        "from sklearn.preprocessing import StandardScaler\n",
        "from sklearn.decomposition import PCA"
      ],
      "execution_count": 0,
      "outputs": []
    },
    {
      "cell_type": "code",
      "metadata": {
        "id": "Q5Dcx1M4j1Ve",
        "colab_type": "code",
        "colab": {}
      },
      "source": [
        "#we state our hypothesis\n",
        "\n",
        "#which individuals are likely to use or have a bank account."
      ],
      "execution_count": 0,
      "outputs": []
    },
    {
      "cell_type": "code",
      "metadata": {
        "id": "66ydDVSMj9Xj",
        "colab_type": "code",
        "outputId": "79278493-bc6a-4808-ca40-8a1f190c5614",
        "colab": {
          "base_uri": "https://localhost:8080/",
          "height": 377
        }
      },
      "source": [
        "#we now load our dataset\n",
        "df = pd.read_csv('Financial Dataset.csv')\n",
        "df.head()"
      ],
      "execution_count": 3,
      "outputs": [
        {
          "output_type": "execute_result",
          "data": {
            "text/html": [
              "<div>\n",
              "<style scoped>\n",
              "    .dataframe tbody tr th:only-of-type {\n",
              "        vertical-align: middle;\n",
              "    }\n",
              "\n",
              "    .dataframe tbody tr th {\n",
              "        vertical-align: top;\n",
              "    }\n",
              "\n",
              "    .dataframe thead th {\n",
              "        text-align: right;\n",
              "    }\n",
              "</style>\n",
              "<table border=\"1\" class=\"dataframe\">\n",
              "  <thead>\n",
              "    <tr style=\"text-align: right;\">\n",
              "      <th></th>\n",
              "      <th>country</th>\n",
              "      <th>year</th>\n",
              "      <th>uniqueid</th>\n",
              "      <th>Has a Bank account</th>\n",
              "      <th>Type of Location</th>\n",
              "      <th>Cell Phone Access</th>\n",
              "      <th>household_size</th>\n",
              "      <th>Respondent Age</th>\n",
              "      <th>gender_of_respondent</th>\n",
              "      <th>The relathip with head</th>\n",
              "      <th>marital_status</th>\n",
              "      <th>Level of Educuation</th>\n",
              "      <th>Type of Job</th>\n",
              "    </tr>\n",
              "  </thead>\n",
              "  <tbody>\n",
              "    <tr>\n",
              "      <th>0</th>\n",
              "      <td>Kenya</td>\n",
              "      <td>2018</td>\n",
              "      <td>uniqueid_1</td>\n",
              "      <td>Yes</td>\n",
              "      <td>Rural</td>\n",
              "      <td>Yes</td>\n",
              "      <td>3.0</td>\n",
              "      <td>24.0</td>\n",
              "      <td>Female</td>\n",
              "      <td>Spouse</td>\n",
              "      <td>Married/Living together</td>\n",
              "      <td>Secondary education</td>\n",
              "      <td>Self employed</td>\n",
              "    </tr>\n",
              "    <tr>\n",
              "      <th>1</th>\n",
              "      <td>Kenya</td>\n",
              "      <td>2018</td>\n",
              "      <td>uniqueid_2</td>\n",
              "      <td>No</td>\n",
              "      <td>Rural</td>\n",
              "      <td>No</td>\n",
              "      <td>5.0</td>\n",
              "      <td>70.0</td>\n",
              "      <td>Female</td>\n",
              "      <td>Head of Household</td>\n",
              "      <td>Widowed</td>\n",
              "      <td>No formal education</td>\n",
              "      <td>Government Dependent</td>\n",
              "    </tr>\n",
              "    <tr>\n",
              "      <th>2</th>\n",
              "      <td>Kenya</td>\n",
              "      <td>2018</td>\n",
              "      <td>uniqueid_3</td>\n",
              "      <td>Yes</td>\n",
              "      <td>Urban</td>\n",
              "      <td>Yes</td>\n",
              "      <td>5.0</td>\n",
              "      <td>26.0</td>\n",
              "      <td>Male</td>\n",
              "      <td>Other relative</td>\n",
              "      <td>Single/Never Married</td>\n",
              "      <td>Vocational/Specialised training</td>\n",
              "      <td>Self employed</td>\n",
              "    </tr>\n",
              "    <tr>\n",
              "      <th>3</th>\n",
              "      <td>Kenya</td>\n",
              "      <td>2018</td>\n",
              "      <td>uniqueid_4</td>\n",
              "      <td>No</td>\n",
              "      <td>Rural</td>\n",
              "      <td>Yes</td>\n",
              "      <td>5.0</td>\n",
              "      <td>34.0</td>\n",
              "      <td>Female</td>\n",
              "      <td>Head of Household</td>\n",
              "      <td>Married/Living together</td>\n",
              "      <td>Primary education</td>\n",
              "      <td>Formally employed Private</td>\n",
              "    </tr>\n",
              "    <tr>\n",
              "      <th>4</th>\n",
              "      <td>Kenya</td>\n",
              "      <td>2018</td>\n",
              "      <td>uniqueid_5</td>\n",
              "      <td>No</td>\n",
              "      <td>Urban</td>\n",
              "      <td>No</td>\n",
              "      <td>8.0</td>\n",
              "      <td>26.0</td>\n",
              "      <td>Male</td>\n",
              "      <td>Child</td>\n",
              "      <td>Single/Never Married</td>\n",
              "      <td>Primary education</td>\n",
              "      <td>Informally employed</td>\n",
              "    </tr>\n",
              "  </tbody>\n",
              "</table>\n",
              "</div>"
            ],
            "text/plain": [
              "  country  year  ...              Level of Educuation                Type of Job\n",
              "0   Kenya  2018  ...              Secondary education              Self employed\n",
              "1   Kenya  2018  ...              No formal education       Government Dependent\n",
              "2   Kenya  2018  ...  Vocational/Specialised training              Self employed\n",
              "3   Kenya  2018  ...                Primary education  Formally employed Private\n",
              "4   Kenya  2018  ...                Primary education        Informally employed\n",
              "\n",
              "[5 rows x 13 columns]"
            ]
          },
          "metadata": {
            "tags": []
          },
          "execution_count": 3
        }
      ]
    },
    {
      "cell_type": "code",
      "metadata": {
        "id": "1HdFcOlhkI3Y",
        "colab_type": "code",
        "colab": {}
      },
      "source": [
        "#we now remane out dataset columns to make the column name uniform with the informaton captured in the data description\n",
        "#df = df.columns[['country','year','uniqueid','account','location_type','cellphone_access','household_size','age_of_respondent','gender_of_respondent','relationship_with_head','marital_status','education_level','job_type']]\n",
        "#df.head()\n",
        "df = df.rename(columns={'The relathip with head':'relationship_with_head',\n",
        "                         'Type of Location':'location_type',\n",
        "                         'Cell Phone Access':'cellphone_access',\n",
        "                         'Respondent Age':'age_of_respondent',\n",
        "                         'Level of Educuation':'education_level',\n",
        "                         'Type of Job':'job_type'})\n"
      ],
      "execution_count": 0,
      "outputs": []
    },
    {
      "cell_type": "code",
      "metadata": {
        "id": "Yo3Bgf8vrbkD",
        "colab_type": "code",
        "outputId": "4facde21-525d-4dfc-fb6d-7bcb40ce4efa",
        "colab": {
          "base_uri": "https://localhost:8080/",
          "height": 360
        }
      },
      "source": [
        "df.head()"
      ],
      "execution_count": 5,
      "outputs": [
        {
          "output_type": "execute_result",
          "data": {
            "text/html": [
              "<div>\n",
              "<style scoped>\n",
              "    .dataframe tbody tr th:only-of-type {\n",
              "        vertical-align: middle;\n",
              "    }\n",
              "\n",
              "    .dataframe tbody tr th {\n",
              "        vertical-align: top;\n",
              "    }\n",
              "\n",
              "    .dataframe thead th {\n",
              "        text-align: right;\n",
              "    }\n",
              "</style>\n",
              "<table border=\"1\" class=\"dataframe\">\n",
              "  <thead>\n",
              "    <tr style=\"text-align: right;\">\n",
              "      <th></th>\n",
              "      <th>country</th>\n",
              "      <th>year</th>\n",
              "      <th>uniqueid</th>\n",
              "      <th>Has a Bank account</th>\n",
              "      <th>location_type</th>\n",
              "      <th>cellphone_access</th>\n",
              "      <th>household_size</th>\n",
              "      <th>age_of_respondent</th>\n",
              "      <th>gender_of_respondent</th>\n",
              "      <th>relationship_with_head</th>\n",
              "      <th>marital_status</th>\n",
              "      <th>education_level</th>\n",
              "      <th>job_type</th>\n",
              "    </tr>\n",
              "  </thead>\n",
              "  <tbody>\n",
              "    <tr>\n",
              "      <th>0</th>\n",
              "      <td>Kenya</td>\n",
              "      <td>2018</td>\n",
              "      <td>uniqueid_1</td>\n",
              "      <td>Yes</td>\n",
              "      <td>Rural</td>\n",
              "      <td>Yes</td>\n",
              "      <td>3.0</td>\n",
              "      <td>24.0</td>\n",
              "      <td>Female</td>\n",
              "      <td>Spouse</td>\n",
              "      <td>Married/Living together</td>\n",
              "      <td>Secondary education</td>\n",
              "      <td>Self employed</td>\n",
              "    </tr>\n",
              "    <tr>\n",
              "      <th>1</th>\n",
              "      <td>Kenya</td>\n",
              "      <td>2018</td>\n",
              "      <td>uniqueid_2</td>\n",
              "      <td>No</td>\n",
              "      <td>Rural</td>\n",
              "      <td>No</td>\n",
              "      <td>5.0</td>\n",
              "      <td>70.0</td>\n",
              "      <td>Female</td>\n",
              "      <td>Head of Household</td>\n",
              "      <td>Widowed</td>\n",
              "      <td>No formal education</td>\n",
              "      <td>Government Dependent</td>\n",
              "    </tr>\n",
              "    <tr>\n",
              "      <th>2</th>\n",
              "      <td>Kenya</td>\n",
              "      <td>2018</td>\n",
              "      <td>uniqueid_3</td>\n",
              "      <td>Yes</td>\n",
              "      <td>Urban</td>\n",
              "      <td>Yes</td>\n",
              "      <td>5.0</td>\n",
              "      <td>26.0</td>\n",
              "      <td>Male</td>\n",
              "      <td>Other relative</td>\n",
              "      <td>Single/Never Married</td>\n",
              "      <td>Vocational/Specialised training</td>\n",
              "      <td>Self employed</td>\n",
              "    </tr>\n",
              "    <tr>\n",
              "      <th>3</th>\n",
              "      <td>Kenya</td>\n",
              "      <td>2018</td>\n",
              "      <td>uniqueid_4</td>\n",
              "      <td>No</td>\n",
              "      <td>Rural</td>\n",
              "      <td>Yes</td>\n",
              "      <td>5.0</td>\n",
              "      <td>34.0</td>\n",
              "      <td>Female</td>\n",
              "      <td>Head of Household</td>\n",
              "      <td>Married/Living together</td>\n",
              "      <td>Primary education</td>\n",
              "      <td>Formally employed Private</td>\n",
              "    </tr>\n",
              "    <tr>\n",
              "      <th>4</th>\n",
              "      <td>Kenya</td>\n",
              "      <td>2018</td>\n",
              "      <td>uniqueid_5</td>\n",
              "      <td>No</td>\n",
              "      <td>Urban</td>\n",
              "      <td>No</td>\n",
              "      <td>8.0</td>\n",
              "      <td>26.0</td>\n",
              "      <td>Male</td>\n",
              "      <td>Child</td>\n",
              "      <td>Single/Never Married</td>\n",
              "      <td>Primary education</td>\n",
              "      <td>Informally employed</td>\n",
              "    </tr>\n",
              "  </tbody>\n",
              "</table>\n",
              "</div>"
            ],
            "text/plain": [
              "  country  year  ...                  education_level                   job_type\n",
              "0   Kenya  2018  ...              Secondary education              Self employed\n",
              "1   Kenya  2018  ...              No formal education       Government Dependent\n",
              "2   Kenya  2018  ...  Vocational/Specialised training              Self employed\n",
              "3   Kenya  2018  ...                Primary education  Formally employed Private\n",
              "4   Kenya  2018  ...                Primary education        Informally employed\n",
              "\n",
              "[5 rows x 13 columns]"
            ]
          },
          "metadata": {
            "tags": []
          },
          "execution_count": 5
        }
      ]
    },
    {
      "cell_type": "code",
      "metadata": {
        "id": "JXoOl7ntikyK",
        "colab_type": "code",
        "colab": {
          "base_uri": "https://localhost:8080/",
          "height": 286
        },
        "outputId": "cbca771b-5b26-4bef-d041-ccf1e5407850"
      },
      "source": [
        "df['age_of_respondent'].hist()"
      ],
      "execution_count": 6,
      "outputs": [
        {
          "output_type": "execute_result",
          "data": {
            "text/plain": [
              "<matplotlib.axes._subplots.AxesSubplot at 0x7fcc00179a20>"
            ]
          },
          "metadata": {
            "tags": []
          },
          "execution_count": 6
        },
        {
          "output_type": "display_data",
          "data": {
            "image/png": "[encoded data removed]",
            "text/plain": [
              "<Figure size 432x288 with 1 Axes>"
            ]
          },
          "metadata": {
            "tags": []
          }
        }
      ]
    },
    {
      "cell_type": "code",
      "metadata": {
        "id": "mRMmPyO-uqJ7",
        "colab_type": "code",
        "outputId": "05c2d674-3b9c-4487-b037-e8f52004fe22",
        "colab": {
          "base_uri": "https://localhost:8080/",
          "height": 102
        }
      },
      "source": [
        "df.columns"
      ],
      "execution_count": 7,
      "outputs": [
        {
          "output_type": "execute_result",
          "data": {
            "text/plain": [
              "Index(['country', 'year', 'uniqueid', 'Has a Bank account', 'location_type',\n",
              "       'cellphone_access', 'household_size', 'age_of_respondent',\n",
              "       'gender_of_respondent', 'relationship_with_head', 'marital_status',\n",
              "       'education_level', 'job_type'],\n",
              "      dtype='object')"
            ]
          },
          "metadata": {
            "tags": []
          },
          "execution_count": 7
        }
      ]
    },
    {
      "cell_type": "code",
      "metadata": {
        "id": "D-0VAKa0rpHK",
        "colab_type": "code",
        "outputId": "7650d125-eb84-411d-9196-f21511919612",
        "colab": {
          "base_uri": "https://localhost:8080/",
          "height": 34
        }
      },
      "source": [
        "#we want to understand our dataset by checking the number of records,missing values and data types\n",
        "df.shape"
      ],
      "execution_count": 8,
      "outputs": [
        {
          "output_type": "execute_result",
          "data": {
            "text/plain": [
              "(23524, 13)"
            ]
          },
          "metadata": {
            "tags": []
          },
          "execution_count": 8
        }
      ]
    },
    {
      "cell_type": "code",
      "metadata": {
        "id": "SCgxdVZBr2si",
        "colab_type": "code",
        "outputId": "7cf40e3a-eadc-4ffc-a5bd-9679330671dc",
        "colab": {
          "base_uri": "https://localhost:8080/",
          "height": 255
        }
      },
      "source": [
        "df.dtypes"
      ],
      "execution_count": 9,
      "outputs": [
        {
          "output_type": "execute_result",
          "data": {
            "text/plain": [
              "country                    object\n",
              "year                        int64\n",
              "uniqueid                   object\n",
              "Has a Bank account         object\n",
              "location_type              object\n",
              "cellphone_access           object\n",
              "household_size            float64\n",
              "age_of_respondent         float64\n",
              "gender_of_respondent       object\n",
              "relationship_with_head     object\n",
              "marital_status             object\n",
              "education_level            object\n",
              "job_type                   object\n",
              "dtype: object"
            ]
          },
          "metadata": {
            "tags": []
          },
          "execution_count": 9
        }
      ]
    },
    {
      "cell_type": "code",
      "metadata": {
        "id": "ZueNp1B9r64y",
        "colab_type": "code",
        "outputId": "a10d6719-06b3-4e46-d4de-b8c4eceec633",
        "colab": {
          "base_uri": "https://localhost:8080/",
          "height": 255
        }
      },
      "source": [
        "df.isnull().sum()"
      ],
      "execution_count": 10,
      "outputs": [
        {
          "output_type": "execute_result",
          "data": {
            "text/plain": [
              "country                   14\n",
              "year                       0\n",
              "uniqueid                   0\n",
              "Has a Bank account        36\n",
              "location_type             15\n",
              "cellphone_access          11\n",
              "household_size            28\n",
              "age_of_respondent         34\n",
              "gender_of_respondent      34\n",
              "relationship_with_head     4\n",
              "marital_status            32\n",
              "education_level           29\n",
              "job_type                  30\n",
              "dtype: int64"
            ]
          },
          "metadata": {
            "tags": []
          },
          "execution_count": 10
        }
      ]
    },
    {
      "cell_type": "code",
      "metadata": {
        "id": "YqX4a_DisASf",
        "colab_type": "code",
        "outputId": "8a8325bf-ee37-4c5b-93bc-0697adf0db53",
        "colab": {
          "base_uri": "https://localhost:8080/",
          "height": 1000
        }
      },
      "source": [
        "#we the proceed to treat our missing values\n",
        "missing_data=df.isnull()\n",
        "for column in missing_data.columns.values.tolist():\n",
        "    print(column)\n",
        "    print (missing_data[column].value_counts())\n",
        "    print(\"\")    "
      ],
      "execution_count": 11,
      "outputs": [
        {
          "output_type": "stream",
          "text": [
            "country\n",
            "False    23510\n",
            "True        14\n",
            "Name: country, dtype: int64\n",
            "\n",
            "year\n",
            "False    23524\n",
            "Name: year, dtype: int64\n",
            "\n",
            "uniqueid\n",
            "False    23524\n",
            "Name: uniqueid, dtype: int64\n",
            "\n",
            "Has a Bank account\n",
            "False    23488\n",
            "True        36\n",
            "Name: Has a Bank account, dtype: int64\n",
            "\n",
            "location_type\n",
            "False    23509\n",
            "True        15\n",
            "Name: location_type, dtype: int64\n",
            "\n",
            "cellphone_access\n",
            "False    23513\n",
            "True        11\n",
            "Name: cellphone_access, dtype: int64\n",
            "\n",
            "household_size\n",
            "False    23496\n",
            "True        28\n",
            "Name: household_size, dtype: int64\n",
            "\n",
            "age_of_respondent\n",
            "False    23490\n",
            "True        34\n",
            "Name: age_of_respondent, dtype: int64\n",
            "\n",
            "gender_of_respondent\n",
            "False    23490\n",
            "True        34\n",
            "Name: gender_of_respondent, dtype: int64\n",
            "\n",
            "relationship_with_head\n",
            "False    23520\n",
            "True         4\n",
            "Name: relationship_with_head, dtype: int64\n",
            "\n",
            "marital_status\n",
            "False    23492\n",
            "True        32\n",
            "Name: marital_status, dtype: int64\n",
            "\n",
            "education_level\n",
            "False    23495\n",
            "True        29\n",
            "Name: education_level, dtype: int64\n",
            "\n",
            "job_type\n",
            "False    23494\n",
            "True        30\n",
            "Name: job_type, dtype: int64\n",
            "\n"
          ],
          "name": "stdout"
        }
      ]
    },
    {
      "cell_type": "code",
      "metadata": {
        "id": "q3JMDGTuwHUd",
        "colab_type": "code",
        "colab": {}
      },
      "source": [
        "categorical_columns = ['country','gender_of_respondent', 'relationship_with_head', 'marital_status','location_type','cellphone_access','education_level','job_type']\n",
        "for column in categorical_columns:\n",
        "  df[column] = df[column].fillna(df[column].mode().iloc[0])"
      ],
      "execution_count": 0,
      "outputs": []
    },
    {
      "cell_type": "code",
      "metadata": {
        "id": "cHOM7EvgzUvj",
        "colab_type": "code",
        "colab": {}
      },
      "source": [
        "#we replace NaN value with the most common house_hold size\n",
        "df['household_size'] = df['household_size'].fillna(df['household_size'].mode().iloc[0])"
      ],
      "execution_count": 0,
      "outputs": []
    },
    {
      "cell_type": "code",
      "metadata": {
        "id": "vCQ7Q_x-0lqS",
        "colab_type": "code",
        "colab": {}
      },
      "source": [
        "#find the mean in the column has a age_of_respondent\n",
        "df['age_of_respondent'] = df['age_of_respondent'].fillna(df['age_of_respondent'].mode().iloc[0])"
      ],
      "execution_count": 0,
      "outputs": []
    },
    {
      "cell_type": "code",
      "metadata": {
        "id": "CoxUeEyH1m1u",
        "colab_type": "code",
        "colab": {}
      },
      "source": [
        "df.dropna(subset=['Has a Bank account'], axis=0, inplace=True)"
      ],
      "execution_count": 0,
      "outputs": []
    },
    {
      "cell_type": "code",
      "metadata": {
        "id": "ksXQtd1-2tea",
        "colab_type": "code",
        "outputId": "472471ee-75b0-4f2d-c91a-da8beadab354",
        "colab": {
          "base_uri": "https://localhost:8080/",
          "height": 247
        }
      },
      "source": [
        "df.head(3)"
      ],
      "execution_count": 16,
      "outputs": [
        {
          "output_type": "execute_result",
          "data": {
            "text/html": [
              "<div>\n",
              "<style scoped>\n",
              "    .dataframe tbody tr th:only-of-type {\n",
              "        vertical-align: middle;\n",
              "    }\n",
              "\n",
              "    .dataframe tbody tr th {\n",
              "        vertical-align: top;\n",
              "    }\n",
              "\n",
              "    .dataframe thead th {\n",
              "        text-align: right;\n",
              "    }\n",
              "</style>\n",
              "<table border=\"1\" class=\"dataframe\">\n",
              "  <thead>\n",
              "    <tr style=\"text-align: right;\">\n",
              "      <th></th>\n",
              "      <th>country</th>\n",
              "      <th>year</th>\n",
              "      <th>uniqueid</th>\n",
              "      <th>Has a Bank account</th>\n",
              "      <th>location_type</th>\n",
              "      <th>cellphone_access</th>\n",
              "      <th>household_size</th>\n",
              "      <th>age_of_respondent</th>\n",
              "      <th>gender_of_respondent</th>\n",
              "      <th>relationship_with_head</th>\n",
              "      <th>marital_status</th>\n",
              "      <th>education_level</th>\n",
              "      <th>job_type</th>\n",
              "    </tr>\n",
              "  </thead>\n",
              "  <tbody>\n",
              "    <tr>\n",
              "      <th>0</th>\n",
              "      <td>Kenya</td>\n",
              "      <td>2018</td>\n",
              "      <td>uniqueid_1</td>\n",
              "      <td>Yes</td>\n",
              "      <td>Rural</td>\n",
              "      <td>Yes</td>\n",
              "      <td>3.0</td>\n",
              "      <td>24.0</td>\n",
              "      <td>Female</td>\n",
              "      <td>Spouse</td>\n",
              "      <td>Married/Living together</td>\n",
              "      <td>Secondary education</td>\n",
              "      <td>Self employed</td>\n",
              "    </tr>\n",
              "    <tr>\n",
              "      <th>1</th>\n",
              "      <td>Kenya</td>\n",
              "      <td>2018</td>\n",
              "      <td>uniqueid_2</td>\n",
              "      <td>No</td>\n",
              "      <td>Rural</td>\n",
              "      <td>No</td>\n",
              "      <td>5.0</td>\n",
              "      <td>70.0</td>\n",
              "      <td>Female</td>\n",
              "      <td>Head of Household</td>\n",
              "      <td>Widowed</td>\n",
              "      <td>No formal education</td>\n",
              "      <td>Government Dependent</td>\n",
              "    </tr>\n",
              "    <tr>\n",
              "      <th>2</th>\n",
              "      <td>Kenya</td>\n",
              "      <td>2018</td>\n",
              "      <td>uniqueid_3</td>\n",
              "      <td>Yes</td>\n",
              "      <td>Urban</td>\n",
              "      <td>Yes</td>\n",
              "      <td>5.0</td>\n",
              "      <td>26.0</td>\n",
              "      <td>Male</td>\n",
              "      <td>Other relative</td>\n",
              "      <td>Single/Never Married</td>\n",
              "      <td>Vocational/Specialised training</td>\n",
              "      <td>Self employed</td>\n",
              "    </tr>\n",
              "  </tbody>\n",
              "</table>\n",
              "</div>"
            ],
            "text/plain": [
              "  country  year  ...                  education_level              job_type\n",
              "0   Kenya  2018  ...              Secondary education         Self employed\n",
              "1   Kenya  2018  ...              No formal education  Government Dependent\n",
              "2   Kenya  2018  ...  Vocational/Specialised training         Self employed\n",
              "\n",
              "[3 rows x 13 columns]"
            ]
          },
          "metadata": {
            "tags": []
          },
          "execution_count": 16
        }
      ]
    },
    {
      "cell_type": "code",
      "metadata": {
        "id": "b9Hnxf18zpKU",
        "colab_type": "code",
        "colab": {
          "base_uri": "https://localhost:8080/",
          "height": 68
        },
        "outputId": "2166b051-2b13-4f3d-9b8f-21c5374fee62"
      },
      "source": [
        "#there is an anomaly in the education level\n",
        "df['education_level'].unique()"
      ],
      "execution_count": 17,
      "outputs": [
        {
          "output_type": "execute_result",
          "data": {
            "text/plain": [
              "array(['Secondary education', 'No formal education',\n",
              "       'Vocational/Specialised training', 'Primary education',\n",
              "       'Tertiary education', 'Other/Dont know/RTA', '6'], dtype=object)"
            ]
          },
          "metadata": {
            "tags": []
          },
          "execution_count": 17
        }
      ]
    },
    {
      "cell_type": "code",
      "metadata": {
        "id": "vVjwywbF2xTV",
        "colab_type": "code",
        "outputId": "1706b551-8bc0-406b-9e52-9641236716cf",
        "colab": {
          "base_uri": "https://localhost:8080/",
          "height": 255
        }
      },
      "source": [
        "#check whether we successfully treated the missing values\n",
        "df.isnull().sum()"
      ],
      "execution_count": 18,
      "outputs": [
        {
          "output_type": "execute_result",
          "data": {
            "text/plain": [
              "country                   0\n",
              "year                      0\n",
              "uniqueid                  0\n",
              "Has a Bank account        0\n",
              "location_type             0\n",
              "cellphone_access          0\n",
              "household_size            0\n",
              "age_of_respondent         0\n",
              "gender_of_respondent      0\n",
              "relationship_with_head    0\n",
              "marital_status            0\n",
              "education_level           0\n",
              "job_type                  0\n",
              "dtype: int64"
            ]
          },
          "metadata": {
            "tags": []
          },
          "execution_count": 18
        }
      ]
    },
    {
      "cell_type": "code",
      "metadata": {
        "id": "6roCLcsmTtuN",
        "colab_type": "code",
        "colab": {
          "base_uri": "https://localhost:8080/",
          "height": 255
        },
        "outputId": "687e2dbe-b85c-4d7b-add4-26b8b2552bd9"
      },
      "source": [
        "#we check whether our variable data types are as expected\n",
        "df.dtypes"
      ],
      "execution_count": 19,
      "outputs": [
        {
          "output_type": "execute_result",
          "data": {
            "text/plain": [
              "country                    object\n",
              "year                        int64\n",
              "uniqueid                   object\n",
              "Has a Bank account         object\n",
              "location_type              object\n",
              "cellphone_access           object\n",
              "household_size            float64\n",
              "age_of_respondent         float64\n",
              "gender_of_respondent       object\n",
              "relationship_with_head     object\n",
              "marital_status             object\n",
              "education_level            object\n",
              "job_type                   object\n",
              "dtype: object"
            ]
          },
          "metadata": {
            "tags": []
          },
          "execution_count": 19
        }
      ]
    },
    {
      "cell_type": "code",
      "metadata": {
        "id": "d6VaqoPlUGXl",
        "colab_type": "code",
        "colab": {}
      },
      "source": [
        "#all our ariable data types are fine except for house hold size so to correct this we do the conversion\n",
        "df['household_size']=df['household_size'].astype(\"float\")"
      ],
      "execution_count": 0,
      "outputs": []
    },
    {
      "cell_type": "code",
      "metadata": {
        "id": "OHBIdv-MUtdT",
        "colab_type": "code",
        "colab": {
          "base_uri": "https://localhost:8080/",
          "height": 255
        },
        "outputId": "d688c11a-59ea-490f-9def-26e02fd700ff"
      },
      "source": [
        "#we check if this is converted\n",
        "df.dtypes"
      ],
      "execution_count": 21,
      "outputs": [
        {
          "output_type": "execute_result",
          "data": {
            "text/plain": [
              "country                    object\n",
              "year                        int64\n",
              "uniqueid                   object\n",
              "Has a Bank account         object\n",
              "location_type              object\n",
              "cellphone_access           object\n",
              "household_size            float64\n",
              "age_of_respondent         float64\n",
              "gender_of_respondent       object\n",
              "relationship_with_head     object\n",
              "marital_status             object\n",
              "education_level            object\n",
              "job_type                   object\n",
              "dtype: object"
            ]
          },
          "metadata": {
            "tags": []
          },
          "execution_count": 21
        }
      ]
    },
    {
      "cell_type": "code",
      "metadata": {
        "id": "MHJoBWn7U1Pz",
        "colab_type": "code",
        "colab": {}
      },
      "source": [
        "#we now have all missing values treated, variable data types in the correct format"
      ],
      "execution_count": 0,
      "outputs": []
    },
    {
      "cell_type": "code",
      "metadata": {
        "id": "NcNN8RDBcnQj",
        "colab_type": "code",
        "colab": {}
      },
      "source": [
        "#we delete the columns we may not need like the uniqueid\n",
        "df=df.drop('uniqueid', axis=1)\n"
      ],
      "execution_count": 0,
      "outputs": []
    },
    {
      "cell_type": "code",
      "metadata": {
        "id": "ipoNKgTgcnMy",
        "colab_type": "code",
        "colab": {
          "base_uri": "https://localhost:8080/",
          "height": 199
        },
        "outputId": "e3758e54-3855-4e6c-e6ff-41655a9aa027"
      },
      "source": [
        "df.head(2)"
      ],
      "execution_count": 24,
      "outputs": [
        {
          "output_type": "execute_result",
          "data": {
            "text/html": [
              "<div>\n",
              "<style scoped>\n",
              "    .dataframe tbody tr th:only-of-type {\n",
              "        vertical-align: middle;\n",
              "    }\n",
              "\n",
              "    .dataframe tbody tr th {\n",
              "        vertical-align: top;\n",
              "    }\n",
              "\n",
              "    .dataframe thead th {\n",
              "        text-align: right;\n",
              "    }\n",
              "</style>\n",
              "<table border=\"1\" class=\"dataframe\">\n",
              "  <thead>\n",
              "    <tr style=\"text-align: right;\">\n",
              "      <th></th>\n",
              "      <th>country</th>\n",
              "      <th>year</th>\n",
              "      <th>Has a Bank account</th>\n",
              "      <th>location_type</th>\n",
              "      <th>cellphone_access</th>\n",
              "      <th>household_size</th>\n",
              "      <th>age_of_respondent</th>\n",
              "      <th>gender_of_respondent</th>\n",
              "      <th>relationship_with_head</th>\n",
              "      <th>marital_status</th>\n",
              "      <th>education_level</th>\n",
              "      <th>job_type</th>\n",
              "    </tr>\n",
              "  </thead>\n",
              "  <tbody>\n",
              "    <tr>\n",
              "      <th>0</th>\n",
              "      <td>Kenya</td>\n",
              "      <td>2018</td>\n",
              "      <td>Yes</td>\n",
              "      <td>Rural</td>\n",
              "      <td>Yes</td>\n",
              "      <td>3.0</td>\n",
              "      <td>24.0</td>\n",
              "      <td>Female</td>\n",
              "      <td>Spouse</td>\n",
              "      <td>Married/Living together</td>\n",
              "      <td>Secondary education</td>\n",
              "      <td>Self employed</td>\n",
              "    </tr>\n",
              "    <tr>\n",
              "      <th>1</th>\n",
              "      <td>Kenya</td>\n",
              "      <td>2018</td>\n",
              "      <td>No</td>\n",
              "      <td>Rural</td>\n",
              "      <td>No</td>\n",
              "      <td>5.0</td>\n",
              "      <td>70.0</td>\n",
              "      <td>Female</td>\n",
              "      <td>Head of Household</td>\n",
              "      <td>Widowed</td>\n",
              "      <td>No formal education</td>\n",
              "      <td>Government Dependent</td>\n",
              "    </tr>\n",
              "  </tbody>\n",
              "</table>\n",
              "</div>"
            ],
            "text/plain": [
              "  country  year  ...      education_level              job_type\n",
              "0   Kenya  2018  ...  Secondary education         Self employed\n",
              "1   Kenya  2018  ...  No formal education  Government Dependent\n",
              "\n",
              "[2 rows x 12 columns]"
            ]
          },
          "metadata": {
            "tags": []
          },
          "execution_count": 24
        }
      ]
    },
    {
      "cell_type": "code",
      "metadata": {
        "id": "Yt8gjZzasBwo",
        "colab_type": "code",
        "colab": {}
      },
      "source": [
        ""
      ],
      "execution_count": 0,
      "outputs": []
    },
    {
      "cell_type": "markdown",
      "metadata": {
        "id": "eTcI8fbesErA",
        "colab_type": "text"
      },
      "source": [
        "**UNIVARIATE** **ANALYSIS**"
      ]
    },
    {
      "cell_type": "code",
      "metadata": {
        "id": "fRK0ZR--yRTR",
        "colab_type": "code",
        "colab": {}
      },
      "source": [
        "#majorly highlghts the distribution of data variables. "
      ],
      "execution_count": 0,
      "outputs": []
    },
    {
      "cell_type": "code",
      "metadata": {
        "id": "L6QvqDkqfJlL",
        "colab_type": "code",
        "colab": {
          "base_uri": "https://localhost:8080/",
          "height": 297
        },
        "outputId": "823600b6-b322-439e-fa4b-382ef52475ea"
      },
      "source": [
        "df.describe()"
      ],
      "execution_count": 26,
      "outputs": [
        {
          "output_type": "execute_result",
          "data": {
            "text/html": [
              "<div>\n",
              "<style scoped>\n",
              "    .dataframe tbody tr th:only-of-type {\n",
              "        vertical-align: middle;\n",
              "    }\n",
              "\n",
              "    .dataframe tbody tr th {\n",
              "        vertical-align: top;\n",
              "    }\n",
              "\n",
              "    .dataframe thead th {\n",
              "        text-align: right;\n",
              "    }\n",
              "</style>\n",
              "<table border=\"1\" class=\"dataframe\">\n",
              "  <thead>\n",
              "    <tr style=\"text-align: right;\">\n",
              "      <th></th>\n",
              "      <th>year</th>\n",
              "      <th>household_size</th>\n",
              "      <th>age_of_respondent</th>\n",
              "    </tr>\n",
              "  </thead>\n",
              "  <tbody>\n",
              "    <tr>\n",
              "      <th>count</th>\n",
              "      <td>23488.000000</td>\n",
              "      <td>23488.000000</td>\n",
              "      <td>23488.000000</td>\n",
              "    </tr>\n",
              "    <tr>\n",
              "      <th>mean</th>\n",
              "      <td>2016.978968</td>\n",
              "      <td>3.682434</td>\n",
              "      <td>38.798365</td>\n",
              "    </tr>\n",
              "    <tr>\n",
              "      <th>std</th>\n",
              "      <td>0.900358</td>\n",
              "      <td>2.279789</td>\n",
              "      <td>16.517111</td>\n",
              "    </tr>\n",
              "    <tr>\n",
              "      <th>min</th>\n",
              "      <td>2016.000000</td>\n",
              "      <td>0.000000</td>\n",
              "      <td>16.000000</td>\n",
              "    </tr>\n",
              "    <tr>\n",
              "      <th>25%</th>\n",
              "      <td>2016.000000</td>\n",
              "      <td>2.000000</td>\n",
              "      <td>26.000000</td>\n",
              "    </tr>\n",
              "    <tr>\n",
              "      <th>50%</th>\n",
              "      <td>2017.000000</td>\n",
              "      <td>3.000000</td>\n",
              "      <td>35.000000</td>\n",
              "    </tr>\n",
              "    <tr>\n",
              "      <th>75%</th>\n",
              "      <td>2018.000000</td>\n",
              "      <td>5.000000</td>\n",
              "      <td>49.000000</td>\n",
              "    </tr>\n",
              "    <tr>\n",
              "      <th>max</th>\n",
              "      <td>2056.000000</td>\n",
              "      <td>21.000000</td>\n",
              "      <td>100.000000</td>\n",
              "    </tr>\n",
              "  </tbody>\n",
              "</table>\n",
              "</div>"
            ],
            "text/plain": [
              "               year  household_size  age_of_respondent\n",
              "count  23488.000000    23488.000000       23488.000000\n",
              "mean    2016.978968        3.682434          38.798365\n",
              "std        0.900358        2.279789          16.517111\n",
              "min     2016.000000        0.000000          16.000000\n",
              "25%     2016.000000        2.000000          26.000000\n",
              "50%     2017.000000        3.000000          35.000000\n",
              "75%     2018.000000        5.000000          49.000000\n",
              "max     2056.000000       21.000000         100.000000"
            ]
          },
          "metadata": {
            "tags": []
          },
          "execution_count": 26
        }
      ]
    },
    {
      "cell_type": "code",
      "metadata": {
        "id": "Ll2TW37gXIKB",
        "colab_type": "code",
        "colab": {
          "base_uri": "https://localhost:8080/",
          "height": 34
        },
        "outputId": "69a014d6-2214-4a60-a2ff-a5982c784fcd"
      },
      "source": [
        "df['year'].unique()"
      ],
      "execution_count": 27,
      "outputs": [
        {
          "output_type": "execute_result",
          "data": {
            "text/plain": [
              "array([2018, 2029, 2056, 2016, 2039, 2017])"
            ]
          },
          "metadata": {
            "tags": []
          },
          "execution_count": 27
        }
      ]
    },
    {
      "cell_type": "code",
      "metadata": {
        "id": "0u3vgk8wWqX0",
        "colab_type": "code",
        "colab": {
          "base_uri": "https://localhost:8080/",
          "height": 286
        },
        "outputId": "458538f4-95f6-46c2-9316-de30c467e2e4"
      },
      "source": [
        "#lets now preceed to check for out liers and deal with them if any\n",
        "df.boxplot(['year'])"
      ],
      "execution_count": 28,
      "outputs": [
        {
          "output_type": "execute_result",
          "data": {
            "text/plain": [
              "<matplotlib.axes._subplots.AxesSubplot at 0x7fcbfd86e668>"
            ]
          },
          "metadata": {
            "tags": []
          },
          "execution_count": 28
        },
        {
          "output_type": "display_data",
          "data": {
            "image/png": "[encoded data removed]",
            "text/plain": [
              "<Figure size 432x288 with 1 Axes>"
            ]
          },
          "metadata": {
            "tags": []
          }
        }
      ]
    },
    {
      "cell_type": "code",
      "metadata": {
        "id": "a6OViTAob5OI",
        "colab_type": "code",
        "colab": {}
      },
      "source": [
        "#Year has too many outliers so we delete the column and according to our research question we may not need it."
      ],
      "execution_count": 0,
      "outputs": []
    },
    {
      "cell_type": "code",
      "metadata": {
        "id": "NSQwCf0vYNDC",
        "colab_type": "code",
        "colab": {}
      },
      "source": [
        "df=df.drop('year', axis=1)"
      ],
      "execution_count": 0,
      "outputs": []
    },
    {
      "cell_type": "code",
      "metadata": {
        "id": "Khn22V_IdxzF",
        "colab_type": "code",
        "colab": {
          "base_uri": "https://localhost:8080/",
          "height": 151
        },
        "outputId": "65b69071-1dd8-419d-db16-0a5f67203149"
      },
      "source": [
        "df.head(1)"
      ],
      "execution_count": 31,
      "outputs": [
        {
          "output_type": "execute_result",
          "data": {
            "text/html": [
              "<div>\n",
              "<style scoped>\n",
              "    .dataframe tbody tr th:only-of-type {\n",
              "        vertical-align: middle;\n",
              "    }\n",
              "\n",
              "    .dataframe tbody tr th {\n",
              "        vertical-align: top;\n",
              "    }\n",
              "\n",
              "    .dataframe thead th {\n",
              "        text-align: right;\n",
              "    }\n",
              "</style>\n",
              "<table border=\"1\" class=\"dataframe\">\n",
              "  <thead>\n",
              "    <tr style=\"text-align: right;\">\n",
              "      <th></th>\n",
              "      <th>country</th>\n",
              "      <th>Has a Bank account</th>\n",
              "      <th>location_type</th>\n",
              "      <th>cellphone_access</th>\n",
              "      <th>household_size</th>\n",
              "      <th>age_of_respondent</th>\n",
              "      <th>gender_of_respondent</th>\n",
              "      <th>relationship_with_head</th>\n",
              "      <th>marital_status</th>\n",
              "      <th>education_level</th>\n",
              "      <th>job_type</th>\n",
              "    </tr>\n",
              "  </thead>\n",
              "  <tbody>\n",
              "    <tr>\n",
              "      <th>0</th>\n",
              "      <td>Kenya</td>\n",
              "      <td>Yes</td>\n",
              "      <td>Rural</td>\n",
              "      <td>Yes</td>\n",
              "      <td>3.0</td>\n",
              "      <td>24.0</td>\n",
              "      <td>Female</td>\n",
              "      <td>Spouse</td>\n",
              "      <td>Married/Living together</td>\n",
              "      <td>Secondary education</td>\n",
              "      <td>Self employed</td>\n",
              "    </tr>\n",
              "  </tbody>\n",
              "</table>\n",
              "</div>"
            ],
            "text/plain": [
              "  country Has a Bank account  ...      education_level       job_type\n",
              "0   Kenya                Yes  ...  Secondary education  Self employed\n",
              "\n",
              "[1 rows x 11 columns]"
            ]
          },
          "metadata": {
            "tags": []
          },
          "execution_count": 31
        }
      ]
    },
    {
      "cell_type": "code",
      "metadata": {
        "id": "uGVGRFsS5Dps",
        "colab_type": "code",
        "colab": {}
      },
      "source": [
        ""
      ],
      "execution_count": 0,
      "outputs": []
    },
    {
      "cell_type": "markdown",
      "metadata": {
        "id": "xG3ikGwl5E1t",
        "colab_type": "text"
      },
      "source": [
        "**Univariate** **Analysis**"
      ]
    },
    {
      "cell_type": "code",
      "metadata": {
        "id": "1-iL1_Yk5RRn",
        "colab_type": "code",
        "colab": {}
      },
      "source": [
        "#in this section we want to check for the distribution of the indiial variables across the data set"
      ],
      "execution_count": 0,
      "outputs": []
    },
    {
      "cell_type": "code",
      "metadata": {
        "id": "Bcl_YrC1f6HX",
        "colab_type": "code",
        "colab": {
          "base_uri": "https://localhost:8080/",
          "height": 170
        },
        "outputId": "6e312de2-94e7-4c12-b2b4-18b37f0c8a5e"
      },
      "source": [
        "df['household_size'].describe()"
      ],
      "execution_count": 32,
      "outputs": [
        {
          "output_type": "execute_result",
          "data": {
            "text/plain": [
              "count    23488.000000\n",
              "mean         3.682434\n",
              "std          2.279789\n",
              "min          0.000000\n",
              "25%          2.000000\n",
              "50%          3.000000\n",
              "75%          5.000000\n",
              "max         21.000000\n",
              "Name: household_size, dtype: float64"
            ]
          },
          "metadata": {
            "tags": []
          },
          "execution_count": 32
        }
      ]
    },
    {
      "cell_type": "code",
      "metadata": {
        "id": "w0ip3azoS3C7",
        "colab_type": "code",
        "colab": {
          "base_uri": "https://localhost:8080/",
          "height": 301
        },
        "outputId": "6ac05f1f-b732-4037-e57b-941c99feec60"
      },
      "source": [
        "sns.boxplot(df['household_size'],showmeans=True)"
      ],
      "execution_count": 33,
      "outputs": [
        {
          "output_type": "execute_result",
          "data": {
            "text/plain": [
              "<matplotlib.axes._subplots.AxesSubplot at 0x7fcbfd7ee358>"
            ]
          },
          "metadata": {
            "tags": []
          },
          "execution_count": 33
        },
        {
          "output_type": "display_data",
          "data": {
            "image/png": "[encoded data removed]",
            "text/plain": [
              "<Figure size 432x288 with 1 Axes>"
            ]
          },
          "metadata": {
            "tags": []
          }
        }
      ]
    },
    {
      "cell_type": "code",
      "metadata": {
        "id": "bLZDQ-wMWSCd",
        "colab_type": "code",
        "colab": {
          "base_uri": "https://localhost:8080/",
          "height": 51
        },
        "outputId": "49cf91e5-99a3-48ad-e50f-16ee83d613d6"
      },
      "source": [
        "#we check for distinct values in the column\n",
        "df['household_size'].unique()"
      ],
      "execution_count": 34,
      "outputs": [
        {
          "output_type": "execute_result",
          "data": {
            "text/plain": [
              "array([ 3.,  5.,  8.,  7.,  1.,  6.,  4., 10.,  2., 11.,  9., 12., 16.,\n",
              "       15., 13., 14., 21.,  0., 18., 17., 20.])"
            ]
          },
          "metadata": {
            "tags": []
          },
          "execution_count": 34
        }
      ]
    },
    {
      "cell_type": "code",
      "metadata": {
        "id": "bcB2ogv4WR3n",
        "colab_type": "code",
        "colab": {
          "base_uri": "https://localhost:8080/",
          "height": 296
        },
        "outputId": "bedb0124-2a37-4dc9-8d8b-7cd73a385663"
      },
      "source": [
        "\n",
        "household_size = df['household_size']\n",
        "\n",
        "plt.hist(household_size, bins=5, histtype='bar', rwidth=0.9, color='maroon')\n",
        "plt.xlabel('household_size')\n",
        "plt.ylabel('Quantity')\n",
        "plt.title('Histogram of household_size')\n",
        "plt.show()"
      ],
      "execution_count": 35,
      "outputs": [
        {
          "output_type": "display_data",
          "data": {
            "image/png": "[encoded data removed]",
            "text/plain": [
              "<Figure size 432x288 with 1 Axes>"
            ]
          },
          "metadata": {
            "tags": []
          }
        }
      ]
    },
    {
      "cell_type": "code",
      "metadata": {
        "id": "NtDsdeyWgniQ",
        "colab_type": "code",
        "colab": {
          "base_uri": "https://localhost:8080/",
          "height": 170
        },
        "outputId": "7731e661-b190-48d7-faad-d6a1ac79bda7"
      },
      "source": [
        "df['age_of_respondent'].describe()"
      ],
      "execution_count": 36,
      "outputs": [
        {
          "output_type": "execute_result",
          "data": {
            "text/plain": [
              "count    23488.000000\n",
              "mean        38.798365\n",
              "std         16.517111\n",
              "min         16.000000\n",
              "25%         26.000000\n",
              "50%         35.000000\n",
              "75%         49.000000\n",
              "max        100.000000\n",
              "Name: age_of_respondent, dtype: float64"
            ]
          },
          "metadata": {
            "tags": []
          },
          "execution_count": 36
        }
      ]
    },
    {
      "cell_type": "code",
      "metadata": {
        "id": "bu0ivAfkX_E1",
        "colab_type": "code",
        "colab": {
          "base_uri": "https://localhost:8080/",
          "height": 301
        },
        "outputId": "3de63cdb-60cb-466e-e5c2-f0cafb6ccf2c"
      },
      "source": [
        "sns.boxplot(df['age_of_respondent'])"
      ],
      "execution_count": 37,
      "outputs": [
        {
          "output_type": "execute_result",
          "data": {
            "text/plain": [
              "<matplotlib.axes._subplots.AxesSubplot at 0x7fcbfd795ba8>"
            ]
          },
          "metadata": {
            "tags": []
          },
          "execution_count": 37
        },
        {
          "output_type": "display_data",
          "data": {
            "image/png": "[encoded data removed]",
            "text/plain": [
              "<Figure size 432x288 with 1 Axes>"
            ]
          },
          "metadata": {
            "tags": []
          }
        }
      ]
    },
    {
      "cell_type": "code",
      "metadata": {
        "id": "b7JDj7WYUZ0H",
        "colab_type": "code",
        "colab": {
          "base_uri": "https://localhost:8080/",
          "height": 153
        },
        "outputId": "b6550e05-f927-4c11-d9b1-ea6bf26e128b"
      },
      "source": [
        "df['age_of_respondent'].unique()"
      ],
      "execution_count": 38,
      "outputs": [
        {
          "output_type": "execute_result",
          "data": {
            "text/plain": [
              "array([ 24.,  70.,  26.,  34.,  32.,  42.,  54.,  76.,  40.,  69.,  64.,\n",
              "        31.,  38.,  47.,  27.,  48.,  25.,  21.,  18.,  22.,  58.,  55.,\n",
              "        62.,  29.,  35.,  45.,  67.,  19.,  80.,  66.,  50.,  33.,  28.,\n",
              "        51.,  16.,  17.,  30.,  37.,  59.,  65.,  46.,  56.,  52.,  23.,\n",
              "        43.,  49.,  44.,  72.,  53.,  63.,  39.,  81.,  78.,  36.,  20.,\n",
              "        60.,  95.,  71.,  57.,  85.,  68.,  41.,  61.,  75.,  86.,  73.,\n",
              "        93.,  74.,  88.,  90.,  77.,  84.,  82.,  89.,  79.,  83.,  94.,\n",
              "        87.,  92.,  91.,  98.,  97.,  96.,  99., 100.])"
            ]
          },
          "metadata": {
            "tags": []
          },
          "execution_count": 38
        }
      ]
    },
    {
      "cell_type": "code",
      "metadata": {
        "id": "d1irJp4gUi5e",
        "colab_type": "code",
        "colab": {
          "base_uri": "https://localhost:8080/",
          "height": 295
        },
        "outputId": "19a2519b-be4e-40d8-ce49-6d05c8d9d577"
      },
      "source": [
        "ages=[ 24.,  70.,  26.,  34.,  32.,  42.,  54.,  76.,  40.,  69.,  64.,\n",
        "        31.,  38.,  47.,  27.,  48.,  25.,  21.,  18.,  22.,  58.,  55.,\n",
        "        62.,  29.,  35.,  45.,  67.,  19.,  80.,  66.,  50.,  33.,  28.,\n",
        "        51.,  16.,  17.,  30.,  37.,  59.,  65.,  46.,  56.,  52.,  23.,\n",
        "        43.,  49.,  44.,  72.,  53.,  63.,  39.,  81.,  78.,  36.,  20.,\n",
        "        60.,  95.,  71.,  57.,  85.,  68.,  41.,  61.,  75.,  86.,  73.,\n",
        "        93.,  74.,  88.,  90.,  77.,  84.,  82.,  89.,  79.,  83.,  94.,\n",
        "        87.,  92.,  91.,  98.,  97.,  96.,  99., 100.]\n",
        "bins=[0,10,20,30,40,50,60,70,80,90,100]\n",
        "plt.hist(ages, bins=10, histtype='bar', rwidth=0.9,color='green')\n",
        "\n",
        "plt.xlabel('x')\n",
        "plt.ylabel('y')\n",
        "plt.title('Histogram of ages') \n",
        "plt.show()"
      ],
      "execution_count": 39,
      "outputs": [
        {
          "output_type": "display_data",
          "data": {
            "image/png": "[encoded data removed]",
            "text/plain": [
              "<Figure size 432x288 with 1 Axes>"
            ]
          },
          "metadata": {
            "tags": []
          }
        }
      ]
    },
    {
      "cell_type": "code",
      "metadata": {
        "id": "INBGDneYhzrh",
        "colab_type": "code",
        "colab": {
          "base_uri": "https://localhost:8080/",
          "height": 312
        },
        "outputId": "5e1c05df-4cfe-4fb5-e830-494d4670260a"
      },
      "source": [
        "df['gender_of_respondent'].value_counts().head(10).plot.bar()"
      ],
      "execution_count": 40,
      "outputs": [
        {
          "output_type": "execute_result",
          "data": {
            "text/plain": [
              "<matplotlib.axes._subplots.AxesSubplot at 0x7fcbfd7095c0>"
            ]
          },
          "metadata": {
            "tags": []
          },
          "execution_count": 40
        },
        {
          "output_type": "display_data",
          "data": {
            "image/png": "[encoded data removed]",
            "text/plain": [
              "<Figure size 432x288 with 1 Axes>"
            ]
          },
          "metadata": {
            "tags": []
          }
        }
      ]
    },
    {
      "cell_type": "code",
      "metadata": {
        "id": "UYvaHssmiV-G",
        "colab_type": "code",
        "colab": {
          "base_uri": "https://localhost:8080/",
          "height": 306
        },
        "outputId": "b752da3d-ac6e-429c-d4f1-f1ad2920cf0a"
      },
      "source": [
        "df['location_type'].value_counts().plot.bar()"
      ],
      "execution_count": 41,
      "outputs": [
        {
          "output_type": "execute_result",
          "data": {
            "text/plain": [
              "<matplotlib.axes._subplots.AxesSubplot at 0x7fcbfd709f98>"
            ]
          },
          "metadata": {
            "tags": []
          },
          "execution_count": 41
        },
        {
          "output_type": "display_data",
          "data": {
            "image/png": "[encoded data removed]",
            "text/plain": [
              "<Figure size 432x288 with 1 Axes>"
            ]
          },
          "metadata": {
            "tags": []
          }
        }
      ]
    },
    {
      "cell_type": "code",
      "metadata": {
        "id": "D_JhCmkni7xc",
        "colab_type": "code",
        "colab": {
          "base_uri": "https://localhost:8080/",
          "height": 293
        },
        "outputId": "5524f572-8102-40e9-fd10-4774c66cab69"
      },
      "source": [
        "df['cellphone_access'].value_counts().plot.bar()"
      ],
      "execution_count": 42,
      "outputs": [
        {
          "output_type": "execute_result",
          "data": {
            "text/plain": [
              "<matplotlib.axes._subplots.AxesSubplot at 0x7fcbfd611f28>"
            ]
          },
          "metadata": {
            "tags": []
          },
          "execution_count": 42
        },
        {
          "output_type": "display_data",
          "data": {
            "image/png": "[encoded data removed]",
            "text/plain": [
              "<Figure size 432x288 with 1 Axes>"
            ]
          },
          "metadata": {
            "tags": []
          }
        }
      ]
    },
    {
      "cell_type": "code",
      "metadata": {
        "id": "UV2XVKbVjO1z",
        "colab_type": "code",
        "colab": {
          "base_uri": "https://localhost:8080/",
          "height": 393
        },
        "outputId": "1cdfbdce-542e-4a47-c198-8c63184e451c"
      },
      "source": [
        "df['marital_status'].value_counts().head(10).plot.bar()"
      ],
      "execution_count": 43,
      "outputs": [
        {
          "output_type": "execute_result",
          "data": {
            "text/plain": [
              "<matplotlib.axes._subplots.AxesSubplot at 0x7fcbfd595cf8>"
            ]
          },
          "metadata": {
            "tags": []
          },
          "execution_count": 43
        },
        {
          "output_type": "display_data",
          "data": {
            "image/png": "[encoded data removed]",
            "text/plain": [
              "<Figure size 432x288 with 1 Axes>"
            ]
          },
          "metadata": {
            "tags": []
          }
        }
      ]
    },
    {
      "cell_type": "code",
      "metadata": {
        "id": "gL4VdxERjnVY",
        "colab_type": "code",
        "colab": {
          "base_uri": "https://localhost:8080/",
          "height": 437
        },
        "outputId": "87e29272-3e4c-4b1c-fdc9-0e7981b4ee87"
      },
      "source": [
        "df['job_type'].value_counts().head(10).plot.bar()"
      ],
      "execution_count": 44,
      "outputs": [
        {
          "output_type": "execute_result",
          "data": {
            "text/plain": [
              "<matplotlib.axes._subplots.AxesSubplot at 0x7fcbfd4f1908>"
            ]
          },
          "metadata": {
            "tags": []
          },
          "execution_count": 44
        },
        {
          "output_type": "display_data",
          "data": {
            "image/png": "[encoded data removed]",
            "text/plain": [
              "<Figure size 432x288 with 1 Axes>"
            ]
          },
          "metadata": {
            "tags": []
          }
        }
      ]
    },
    {
      "cell_type": "code",
      "metadata": {
        "id": "Me2oYWZNjnSP",
        "colab_type": "code",
        "colab": {
          "base_uri": "https://localhost:8080/",
          "height": 373
        },
        "outputId": "e405616f-4c6d-42d9-8a2c-d87c4f84a172"
      },
      "source": [
        "df['relationship_with_head'].value_counts().head(10).plot.bar()"
      ],
      "execution_count": 45,
      "outputs": [
        {
          "output_type": "execute_result",
          "data": {
            "text/plain": [
              "<matplotlib.axes._subplots.AxesSubplot at 0x7fcbfd4d62e8>"
            ]
          },
          "metadata": {
            "tags": []
          },
          "execution_count": 45
        },
        {
          "output_type": "display_data",
          "data": {
            "image/png": "[encoded data removed]",
            "text/plain": [
              "<Figure size 432x288 with 1 Axes>"
            ]
          },
          "metadata": {
            "tags": []
          }
        }
      ]
    },
    {
      "cell_type": "code",
      "metadata": {
        "id": "Aa7KpGcFjnKD",
        "colab_type": "code",
        "colab": {
          "base_uri": "https://localhost:8080/",
          "height": 431
        },
        "outputId": "34928a09-c2ac-4852-f615-7adc3d59c723"
      },
      "source": [
        "df['education_level'].value_counts().head(10).plot.bar()"
      ],
      "execution_count": 46,
      "outputs": [
        {
          "output_type": "execute_result",
          "data": {
            "text/plain": [
              "<matplotlib.axes._subplots.AxesSubplot at 0x7fcbfd42c0f0>"
            ]
          },
          "metadata": {
            "tags": []
          },
          "execution_count": 46
        },
        {
          "output_type": "display_data",
          "data": {
            "image/png": "[encoded data removed]",
            "text/plain": [
              "<Figure size 432x288 with 1 Axes>"
            ]
          },
          "metadata": {
            "tags": []
          }
        }
      ]
    },
    {
      "cell_type": "code",
      "metadata": {
        "id": "hJKoxlZPuAbJ",
        "colab_type": "code",
        "colab": {
          "base_uri": "https://localhost:8080/",
          "height": 34
        },
        "outputId": "98b2d0ac-5255-427c-9c63-67585ba515b3"
      },
      "source": [
        "df[\"age_of_respondent\"].skew()"
      ],
      "execution_count": 47,
      "outputs": [
        {
          "output_type": "execute_result",
          "data": {
            "text/plain": [
              "0.8432367721717701"
            ]
          },
          "metadata": {
            "tags": []
          },
          "execution_count": 47
        }
      ]
    },
    {
      "cell_type": "code",
      "metadata": {
        "id": "BlYMlyqcuLab",
        "colab_type": "code",
        "colab": {
          "base_uri": "https://localhost:8080/",
          "height": 34
        },
        "outputId": "1a1565af-0968-4a47-ffb3-eab1f84bc36d"
      },
      "source": [
        "df[\"household_size\"].skew()"
      ],
      "execution_count": 48,
      "outputs": [
        {
          "output_type": "execute_result",
          "data": {
            "text/plain": [
              "0.9779643076109984"
            ]
          },
          "metadata": {
            "tags": []
          },
          "execution_count": 48
        }
      ]
    },
    {
      "cell_type": "markdown",
      "metadata": {
        "id": "30CjGGPLryRd",
        "colab_type": "text"
      },
      "source": [
        "BIVARIATE ANALYSIS"
      ]
    },
    {
      "cell_type": "code",
      "metadata": {
        "id": "51bRHb8l5ehE",
        "colab_type": "code",
        "colab": {}
      },
      "source": [
        "#we want to check for the distribution od variables and how they relate to one another . we shall also be establishing\n",
        "#the strength of relationship if there exists"
      ],
      "execution_count": 0,
      "outputs": []
    },
    {
      "cell_type": "code",
      "metadata": {
        "id": "6qVWzkKljnD7",
        "colab_type": "code",
        "colab": {
          "base_uri": "https://localhost:8080/",
          "height": 403
        },
        "outputId": "8081b992-2add-49e7-9551-7c1079145f83"
      },
      "source": [
        "\n",
        "plt.figure(figsize=(8, 6))\n",
        "\n",
        "sns.pairplot(df, diag_kind='kde')"
      ],
      "execution_count": 49,
      "outputs": [
        {
          "output_type": "execute_result",
          "data": {
            "text/plain": [
              "<seaborn.axisgrid.PairGrid at 0x7fcbfd3af630>"
            ]
          },
          "metadata": {
            "tags": []
          },
          "execution_count": 49
        },
        {
          "output_type": "display_data",
          "data": {
            "text/plain": [
              "<Figure size 576x432 with 0 Axes>"
            ]
          },
          "metadata": {
            "tags": []
          }
        },
        {
          "output_type": "display_data",
          "data": {
            "image/png": "[encoded data removed]",
            "text/plain": [
              "<Figure size 360x360 with 6 Axes>"
            ]
          },
          "metadata": {
            "tags": []
          }
        }
      ]
    },
    {
      "cell_type": "code",
      "metadata": {
        "id": "p89y9JkF7mMo",
        "colab_type": "code",
        "colab": {}
      },
      "source": [
        "#in the above plots we see no relationship between the two variables"
      ],
      "execution_count": 0,
      "outputs": []
    },
    {
      "cell_type": "code",
      "metadata": {
        "id": "OE_TctRFjnAp",
        "colab_type": "code",
        "colab": {
          "base_uri": "https://localhost:8080/",
          "height": 306
        },
        "outputId": "c3783598-5643-4740-caa3-844a72c9b26a"
      },
      "source": [
        "sns.heatmap(df.corr())\n",
        "#the black shades confirm that there is completely no relationship between the two variables"
      ],
      "execution_count": 51,
      "outputs": [
        {
          "output_type": "execute_result",
          "data": {
            "text/plain": [
              "<matplotlib.axes._subplots.AxesSubplot at 0x7fcbfd27c0f0>"
            ]
          },
          "metadata": {
            "tags": []
          },
          "execution_count": 51
        },
        {
          "output_type": "display_data",
          "data": {
            "image/png": "[encoded data removed]",
            "text/plain": [
              "<Figure size 432x288 with 2 Axes>"
            ]
          },
          "metadata": {
            "tags": []
          }
        }
      ]
    },
    {
      "cell_type": "markdown",
      "metadata": {
        "id": "bRYO1H0DjDJh",
        "colab_type": "text"
      },
      "source": [
        "Distributions of observations within categories"
      ]
    },
    {
      "cell_type": "code",
      "metadata": {
        "id": "QnOpJcyncNYY",
        "colab_type": "code",
        "colab": {
          "base_uri": "https://localhost:8080/",
          "height": 420
        },
        "outputId": "646fb64e-606a-444b-8984-3b3513dc3465"
      },
      "source": [
        "#we can use this to visualize how our observations are distributed within the various categories.\n",
        "#we can say that the ages of the respondents in the category of educ level those with no formal education were more and older compared to the rest\n",
        "\n",
        "sns.boxplot(x='education_level',y='age_of_respondent',data=df,palette='rainbow')\n",
        "plt.xticks(rotation = 45)\n",
        "plt.title('education level vs age of respondent')\n"
      ],
      "execution_count": 52,
      "outputs": [
        {
          "output_type": "execute_result",
          "data": {
            "text/plain": [
              "Text(0.5, 1.0, 'education level vs age of respondent')"
            ]
          },
          "metadata": {
            "tags": []
          },
          "execution_count": 52
        },
        {
          "output_type": "display_data",
          "data": {
            "image/png": "[encoded data removed]",
            "text/plain": [
              "<Figure size 432x288 with 1 Axes>"
            ]
          },
          "metadata": {
            "tags": []
          }
        }
      ]
    },
    {
      "cell_type": "code",
      "metadata": {
        "id": "VIDfB-JSjm4_",
        "colab_type": "code",
        "colab": {
          "base_uri": "https://localhost:8080/",
          "height": 424
        },
        "outputId": "8c82d98b-ae67-40e2-d0cf-a04cd1ef8b98"
      },
      "source": [
        "sns.boxplot(x='job_type',y='age_of_respondent',data=df,palette='coolwarm')\n",
        "plt.xticks(rotation = 45)\n",
        "plt.title('job_type vs age of respondent')"
      ],
      "execution_count": 53,
      "outputs": [
        {
          "output_type": "execute_result",
          "data": {
            "text/plain": [
              "Text(0.5, 1.0, 'job_type vs age of respondent')"
            ]
          },
          "metadata": {
            "tags": []
          },
          "execution_count": 53
        },
        {
          "output_type": "display_data",
          "data": {
            "image/png": "[encoded data removed]",
            "text/plain": [
              "<Figure size 432x288 with 1 Axes>"
            ]
          },
          "metadata": {
            "tags": []
          }
        }
      ]
    },
    {
      "cell_type": "code",
      "metadata": {
        "id": "68xOPAJkf8ts",
        "colab_type": "code",
        "colab": {
          "base_uri": "https://localhost:8080/",
          "height": 336
        },
        "outputId": "5fd61f5f-cf44-4f4a-b67b-8434082e1b4c"
      },
      "source": [
        "sns.boxplot(x='gender_of_respondent',y='age_of_respondent',data=df,palette='rainbow')\n",
        "plt.xticks(rotation = 45)\n",
        "plt.title('gender_of_respondent vs age of respondent')\n"
      ],
      "execution_count": 54,
      "outputs": [
        {
          "output_type": "execute_result",
          "data": {
            "text/plain": [
              "Text(0.5, 1.0, 'gender_of_respondent vs age of respondent')"
            ]
          },
          "metadata": {
            "tags": []
          },
          "execution_count": 54
        },
        {
          "output_type": "display_data",
          "data": {
            "image/png": "[encoded data removed]",
            "text/plain": [
              "<Figure size 432x288 with 1 Axes>"
            ]
          },
          "metadata": {
            "tags": []
          }
        }
      ]
    },
    {
      "cell_type": "code",
      "metadata": {
        "id": "cqoN5UCRgd2R",
        "colab_type": "code",
        "colab": {
          "base_uri": "https://localhost:8080/",
          "height": 336
        },
        "outputId": "b0d1399b-9a4e-48fa-9794-f62384594bf7"
      },
      "source": [
        "sns.boxplot(x='gender_of_respondent',y='household_size',data=df,palette='rainbow')\n",
        "plt.xticks(rotation = 45)\n",
        "plt.title('gender_of_respondent vs household_size')\n"
      ],
      "execution_count": 55,
      "outputs": [
        {
          "output_type": "execute_result",
          "data": {
            "text/plain": [
              "Text(0.5, 1.0, 'gender_of_respondent vs household_size')"
            ]
          },
          "metadata": {
            "tags": []
          },
          "execution_count": 55
        },
        {
          "output_type": "display_data",
          "data": {
            "image/png": "[encoded data removed]",
            "text/plain": [
              "<Figure size 432x288 with 1 Axes>"
            ]
          },
          "metadata": {
            "tags": []
          }
        }
      ]
    },
    {
      "cell_type": "code",
      "metadata": {
        "id": "fFqpkQltg07A",
        "colab_type": "code",
        "colab": {
          "base_uri": "https://localhost:8080/",
          "height": 393
        },
        "outputId": "74622db4-6872-433c-a165-f1955d43ea2f"
      },
      "source": [
        "sns.boxplot(x='marital_status',y='age_of_respondent',data=df,palette='rainbow')\n",
        "plt.xticks(rotation = 45)\n",
        "plt.title('marital_status vs age of respondent')\n"
      ],
      "execution_count": 56,
      "outputs": [
        {
          "output_type": "execute_result",
          "data": {
            "text/plain": [
              "Text(0.5, 1.0, 'marital_status vs age of respondent')"
            ]
          },
          "metadata": {
            "tags": []
          },
          "execution_count": 56
        },
        {
          "output_type": "display_data",
          "data": {
            "image/png": "[encoded data removed]",
            "text/plain": [
              "<Figure size 432x288 with 1 Axes>"
            ]
          },
          "metadata": {
            "tags": []
          }
        }
      ]
    },
    {
      "cell_type": "code",
      "metadata": {
        "id": "tNRUGKJiiDoQ",
        "colab_type": "code",
        "colab": {}
      },
      "source": [
        ""
      ],
      "execution_count": 0,
      "outputs": []
    },
    {
      "cell_type": "markdown",
      "metadata": {
        "id": "ERSYQzM30kAz",
        "colab_type": "text"
      },
      "source": [
        "MULTIVARIATE ANALYSIS"
      ]
    },
    {
      "cell_type": "code",
      "metadata": {
        "id": "xrmkU06M-Xyx",
        "colab_type": "code",
        "colab": {}
      },
      "source": [
        "#multiple regression\n",
        "from sklearn.linear_model import LinearRegression\n",
        "from sklearn import model_selection\n",
        "from sklearn.metrics import r2_score\n",
        "from sklearn.model_selection import train_test_split\n",
        "import statsmodels.api as sm\n",
        "from sklearn.metrics import accuracy_score"
      ],
      "execution_count": 0,
      "outputs": []
    },
    {
      "cell_type": "code",
      "metadata": {
        "id": "DTO39M8_0KXy",
        "colab_type": "code",
        "colab": {}
      },
      "source": [
        "#From our dataset we to divide dataset \n",
        "# into features and corresponding labels and then divide the resultant dataset into training and test sets.\n",
        "X = df.iloc[:, 2:11]\n",
        "y = df.iloc[:, 1]"
      ],
      "execution_count": 0,
      "outputs": []
    },
    {
      "cell_type": "code",
      "metadata": {
        "id": "F5GftEtt8q7-",
        "colab_type": "code",
        "colab": {}
      },
      "source": [
        "#because the data is categorical we have to make them in aa form that we can run a regression model on it\n",
        "X=pd.get_dummies(X)"
      ],
      "execution_count": 0,
      "outputs": []
    },
    {
      "cell_type": "code",
      "metadata": {
        "id": "5QpbB2wC9MAP",
        "colab_type": "code",
        "colab": {}
      },
      "source": [
        "from sklearn.preprocessing import LabelEncoder\n",
        "label_encoder = LabelEncoder()\n",
        "y = label_encoder.fit_transform(y)"
      ],
      "execution_count": 0,
      "outputs": []
    },
    {
      "cell_type": "code",
      "metadata": {
        "id": "EBkn2Idq-pWb",
        "colab_type": "code",
        "colab": {
          "base_uri": "https://localhost:8080/",
          "height": 258
        },
        "outputId": "166ab0fb-82cd-45f0-8009-e793909cbef0"
      },
      "source": [
        "X.head()"
      ],
      "execution_count": 61,
      "outputs": [
        {
          "output_type": "execute_result",
          "data": {
            "text/html": [
              "<div>\n",
              "<style scoped>\n",
              "    .dataframe tbody tr th:only-of-type {\n",
              "        vertical-align: middle;\n",
              "    }\n",
              "\n",
              "    .dataframe tbody tr th {\n",
              "        vertical-align: top;\n",
              "    }\n",
              "\n",
              "    .dataframe thead th {\n",
              "        text-align: right;\n",
              "    }\n",
              "</style>\n",
              "<table border=\"1\" class=\"dataframe\">\n",
              "  <thead>\n",
              "    <tr style=\"text-align: right;\">\n",
              "      <th></th>\n",
              "      <th>household_size</th>\n",
              "      <th>age_of_respondent</th>\n",
              "      <th>location_type_Rural</th>\n",
              "      <th>location_type_Urban</th>\n",
              "      <th>cellphone_access_No</th>\n",
              "      <th>cellphone_access_Yes</th>\n",
              "      <th>gender_of_respondent_Female</th>\n",
              "      <th>gender_of_respondent_Male</th>\n",
              "      <th>relationship_with_head_Child</th>\n",
              "      <th>relationship_with_head_Head of Household</th>\n",
              "      <th>relationship_with_head_Other non-relatives</th>\n",
              "      <th>relationship_with_head_Other relative</th>\n",
              "      <th>relationship_with_head_Parent</th>\n",
              "      <th>relationship_with_head_Spouse</th>\n",
              "      <th>marital_status_Divorced/Seperated</th>\n",
              "      <th>marital_status_Dont know</th>\n",
              "      <th>marital_status_Married/Living together</th>\n",
              "      <th>marital_status_Single/Never Married</th>\n",
              "      <th>marital_status_Widowed</th>\n",
              "      <th>education_level_6</th>\n",
              "      <th>education_level_No formal education</th>\n",
              "      <th>education_level_Other/Dont know/RTA</th>\n",
              "      <th>education_level_Primary education</th>\n",
              "      <th>education_level_Secondary education</th>\n",
              "      <th>education_level_Tertiary education</th>\n",
              "      <th>education_level_Vocational/Specialised training</th>\n",
              "      <th>job_type_Dont Know/Refuse to answer</th>\n",
              "      <th>job_type_Farming and Fishing</th>\n",
              "      <th>job_type_Formally employed Government</th>\n",
              "      <th>job_type_Formally employed Private</th>\n",
              "      <th>job_type_Government Dependent</th>\n",
              "      <th>job_type_Informally employed</th>\n",
              "      <th>job_type_No Income</th>\n",
              "      <th>job_type_Other Income</th>\n",
              "      <th>job_type_Remittance Dependent</th>\n",
              "      <th>job_type_Self employed</th>\n",
              "    </tr>\n",
              "  </thead>\n",
              "  <tbody>\n",
              "    <tr>\n",
              "      <th>0</th>\n",
              "      <td>3.0</td>\n",
              "      <td>24.0</td>\n",
              "      <td>1</td>\n",
              "      <td>0</td>\n",
              "      <td>0</td>\n",
              "      <td>1</td>\n",
              "      <td>1</td>\n",
              "      <td>0</td>\n",
              "      <td>0</td>\n",
              "      <td>0</td>\n",
              "      <td>0</td>\n",
              "      <td>0</td>\n",
              "      <td>0</td>\n",
              "      <td>1</td>\n",
              "      <td>0</td>\n",
              "      <td>0</td>\n",
              "      <td>1</td>\n",
              "      <td>0</td>\n",
              "      <td>0</td>\n",
              "      <td>0</td>\n",
              "      <td>0</td>\n",
              "      <td>0</td>\n",
              "      <td>0</td>\n",
              "      <td>1</td>\n",
              "      <td>0</td>\n",
              "      <td>0</td>\n",
              "      <td>0</td>\n",
              "      <td>0</td>\n",
              "      <td>0</td>\n",
              "      <td>0</td>\n",
              "      <td>0</td>\n",
              "      <td>0</td>\n",
              "      <td>0</td>\n",
              "      <td>0</td>\n",
              "      <td>0</td>\n",
              "      <td>1</td>\n",
              "    </tr>\n",
              "    <tr>\n",
              "      <th>1</th>\n",
              "      <td>5.0</td>\n",
              "      <td>70.0</td>\n",
              "      <td>1</td>\n",
              "      <td>0</td>\n",
              "      <td>1</td>\n",
              "      <td>0</td>\n",
              "      <td>1</td>\n",
              "      <td>0</td>\n",
              "      <td>0</td>\n",
              "      <td>1</td>\n",
              "      <td>0</td>\n",
              "      <td>0</td>\n",
              "      <td>0</td>\n",
              "      <td>0</td>\n",
              "      <td>0</td>\n",
              "      <td>0</td>\n",
              "      <td>0</td>\n",
              "      <td>0</td>\n",
              "      <td>1</td>\n",
              "      <td>0</td>\n",
              "      <td>1</td>\n",
              "      <td>0</td>\n",
              "      <td>0</td>\n",
              "      <td>0</td>\n",
              "      <td>0</td>\n",
              "      <td>0</td>\n",
              "      <td>0</td>\n",
              "      <td>0</td>\n",
              "      <td>0</td>\n",
              "      <td>0</td>\n",
              "      <td>1</td>\n",
              "      <td>0</td>\n",
              "      <td>0</td>\n",
              "      <td>0</td>\n",
              "      <td>0</td>\n",
              "      <td>0</td>\n",
              "    </tr>\n",
              "    <tr>\n",
              "      <th>2</th>\n",
              "      <td>5.0</td>\n",
              "      <td>26.0</td>\n",
              "      <td>0</td>\n",
              "      <td>1</td>\n",
              "      <td>0</td>\n",
              "      <td>1</td>\n",
              "      <td>0</td>\n",
              "      <td>1</td>\n",
              "      <td>0</td>\n",
              "      <td>0</td>\n",
              "      <td>0</td>\n",
              "      <td>1</td>\n",
              "      <td>0</td>\n",
              "      <td>0</td>\n",
              "      <td>0</td>\n",
              "      <td>0</td>\n",
              "      <td>0</td>\n",
              "      <td>1</td>\n",
              "      <td>0</td>\n",
              "      <td>0</td>\n",
              "      <td>0</td>\n",
              "      <td>0</td>\n",
              "      <td>0</td>\n",
              "      <td>0</td>\n",
              "      <td>0</td>\n",
              "      <td>1</td>\n",
              "      <td>0</td>\n",
              "      <td>0</td>\n",
              "      <td>0</td>\n",
              "      <td>0</td>\n",
              "      <td>0</td>\n",
              "      <td>0</td>\n",
              "      <td>0</td>\n",
              "      <td>0</td>\n",
              "      <td>0</td>\n",
              "      <td>1</td>\n",
              "    </tr>\n",
              "    <tr>\n",
              "      <th>3</th>\n",
              "      <td>5.0</td>\n",
              "      <td>34.0</td>\n",
              "      <td>1</td>\n",
              "      <td>0</td>\n",
              "      <td>0</td>\n",
              "      <td>1</td>\n",
              "      <td>1</td>\n",
              "      <td>0</td>\n",
              "      <td>0</td>\n",
              "      <td>1</td>\n",
              "      <td>0</td>\n",
              "      <td>0</td>\n",
              "      <td>0</td>\n",
              "      <td>0</td>\n",
              "      <td>0</td>\n",
              "      <td>0</td>\n",
              "      <td>1</td>\n",
              "      <td>0</td>\n",
              "      <td>0</td>\n",
              "      <td>0</td>\n",
              "      <td>0</td>\n",
              "      <td>0</td>\n",
              "      <td>1</td>\n",
              "      <td>0</td>\n",
              "      <td>0</td>\n",
              "      <td>0</td>\n",
              "      <td>0</td>\n",
              "      <td>0</td>\n",
              "      <td>0</td>\n",
              "      <td>1</td>\n",
              "      <td>0</td>\n",
              "      <td>0</td>\n",
              "      <td>0</td>\n",
              "      <td>0</td>\n",
              "      <td>0</td>\n",
              "      <td>0</td>\n",
              "    </tr>\n",
              "    <tr>\n",
              "      <th>4</th>\n",
              "      <td>8.0</td>\n",
              "      <td>26.0</td>\n",
              "      <td>0</td>\n",
              "      <td>1</td>\n",
              "      <td>1</td>\n",
              "      <td>0</td>\n",
              "      <td>0</td>\n",
              "      <td>1</td>\n",
              "      <td>1</td>\n",
              "      <td>0</td>\n",
              "      <td>0</td>\n",
              "      <td>0</td>\n",
              "      <td>0</td>\n",
              "      <td>0</td>\n",
              "      <td>0</td>\n",
              "      <td>0</td>\n",
              "      <td>0</td>\n",
              "      <td>1</td>\n",
              "      <td>0</td>\n",
              "      <td>0</td>\n",
              "      <td>0</td>\n",
              "      <td>0</td>\n",
              "      <td>1</td>\n",
              "      <td>0</td>\n",
              "      <td>0</td>\n",
              "      <td>0</td>\n",
              "      <td>0</td>\n",
              "      <td>0</td>\n",
              "      <td>0</td>\n",
              "      <td>0</td>\n",
              "      <td>0</td>\n",
              "      <td>1</td>\n",
              "      <td>0</td>\n",
              "      <td>0</td>\n",
              "      <td>0</td>\n",
              "      <td>0</td>\n",
              "    </tr>\n",
              "  </tbody>\n",
              "</table>\n",
              "</div>"
            ],
            "text/plain": [
              "   household_size  ...  job_type_Self employed\n",
              "0             3.0  ...                       1\n",
              "1             5.0  ...                       0\n",
              "2             5.0  ...                       1\n",
              "3             5.0  ...                       0\n",
              "4             8.0  ...                       0\n",
              "\n",
              "[5 rows x 36 columns]"
            ]
          },
          "metadata": {
            "tags": []
          },
          "execution_count": 61
        }
      ]
    },
    {
      "cell_type": "code",
      "metadata": {
        "id": "x_AzkPYwiqkX",
        "colab_type": "code",
        "colab": {
          "base_uri": "https://localhost:8080/",
          "height": 34
        },
        "outputId": "0120bd2c-3173-4dc7-99e6-eef03e467d7a"
      },
      "source": [
        "X.shape"
      ],
      "execution_count": 62,
      "outputs": [
        {
          "output_type": "execute_result",
          "data": {
            "text/plain": [
              "(23488, 36)"
            ]
          },
          "metadata": {
            "tags": []
          },
          "execution_count": 62
        }
      ]
    },
    {
      "cell_type": "code",
      "metadata": {
        "id": "7eUGHpKu1B5I",
        "colab_type": "code",
        "colab": {}
      },
      "source": [
        "#the following code divides data into training and test sets\n",
        "#\n",
        "from sklearn.model_selection import train_test_split\n",
        "X_train, X_test, y_train, y_test = train_test_split(X, y, test_size=0.2, random_state=0)"
      ],
      "execution_count": 0,
      "outputs": []
    },
    {
      "cell_type": "code",
      "metadata": {
        "id": "cWxhf2NSbnXQ",
        "colab_type": "code",
        "colab": {}
      },
      "source": [
        "# We now need to perform feature scaling. We execute the following code to do so:\n",
        "# \n",
        "from sklearn.preprocessing import StandardScaler\n",
        "sc = StandardScaler()\n",
        "X_train = sc.fit_transform(X_train)\n",
        "X_test = sc.transform(X_test)"
      ],
      "execution_count": 0,
      "outputs": []
    },
    {
      "cell_type": "code",
      "metadata": {
        "id": "CU5_3XE-n_im",
        "colab_type": "code",
        "colab": {
          "base_uri": "https://localhost:8080/",
          "height": 1000
        },
        "outputId": "9fce99ce-7d31-4631-b4c1-2481ae57f328"
      },
      "source": [
        "X.corr()"
      ],
      "execution_count": 66,
      "outputs": [
        {
          "output_type": "execute_result",
          "data": {
            "text/html": [
              "<div>\n",
              "<style scoped>\n",
              "    .dataframe tbody tr th:only-of-type {\n",
              "        vertical-align: middle;\n",
              "    }\n",
              "\n",
              "    .dataframe tbody tr th {\n",
              "        vertical-align: top;\n",
              "    }\n",
              "\n",
              "    .dataframe thead th {\n",
              "        text-align: right;\n",
              "    }\n",
              "</style>\n",
              "<table border=\"1\" class=\"dataframe\">\n",
              "  <thead>\n",
              "    <tr style=\"text-align: right;\">\n",
              "      <th></th>\n",
              "      <th>household_size</th>\n",
              "      <th>age_of_respondent</th>\n",
              "      <th>location_type_Rural</th>\n",
              "      <th>location_type_Urban</th>\n",
              "      <th>cellphone_access_No</th>\n",
              "      <th>cellphone_access_Yes</th>\n",
              "      <th>gender_of_respondent_Female</th>\n",
              "      <th>gender_of_respondent_Male</th>\n",
              "      <th>relationship_with_head_Child</th>\n",
              "      <th>relationship_with_head_Head of Household</th>\n",
              "      <th>relationship_with_head_Other non-relatives</th>\n",
              "      <th>relationship_with_head_Other relative</th>\n",
              "      <th>relationship_with_head_Parent</th>\n",
              "      <th>relationship_with_head_Spouse</th>\n",
              "      <th>marital_status_Divorced/Seperated</th>\n",
              "      <th>marital_status_Dont know</th>\n",
              "      <th>marital_status_Married/Living together</th>\n",
              "      <th>marital_status_Single/Never Married</th>\n",
              "      <th>marital_status_Widowed</th>\n",
              "      <th>education_level_6</th>\n",
              "      <th>education_level_No formal education</th>\n",
              "      <th>education_level_Other/Dont know/RTA</th>\n",
              "      <th>education_level_Primary education</th>\n",
              "      <th>education_level_Secondary education</th>\n",
              "      <th>education_level_Tertiary education</th>\n",
              "      <th>education_level_Vocational/Specialised training</th>\n",
              "      <th>job_type_Dont Know/Refuse to answer</th>\n",
              "      <th>job_type_Farming and Fishing</th>\n",
              "      <th>job_type_Formally employed Government</th>\n",
              "      <th>job_type_Formally employed Private</th>\n",
              "      <th>job_type_Government Dependent</th>\n",
              "      <th>job_type_Informally employed</th>\n",
              "      <th>job_type_No Income</th>\n",
              "      <th>job_type_Other Income</th>\n",
              "      <th>job_type_Remittance Dependent</th>\n",
              "      <th>job_type_Self employed</th>\n",
              "    </tr>\n",
              "  </thead>\n",
              "  <tbody>\n",
              "    <tr>\n",
              "      <th>household_size</th>\n",
              "      <td>1.000000</td>\n",
              "      <td>-0.119547</td>\n",
              "      <td>0.274296</td>\n",
              "      <td>-0.274296</td>\n",
              "      <td>-0.098881</td>\n",
              "      <td>0.098881</td>\n",
              "      <td>-0.011383</td>\n",
              "      <td>0.011383</td>\n",
              "      <td>0.204176</td>\n",
              "      <td>-0.243987</td>\n",
              "      <td>0.020907</td>\n",
              "      <td>0.014008</td>\n",
              "      <td>0.042549</td>\n",
              "      <td>0.108472</td>\n",
              "      <td>-0.129591</td>\n",
              "      <td>-0.008562</td>\n",
              "      <td>0.345318</td>\n",
              "      <td>-0.182147</td>\n",
              "      <td>-0.153653</td>\n",
              "      <td>0.001970</td>\n",
              "      <td>-0.007242</td>\n",
              "      <td>0.004595</td>\n",
              "      <td>-0.024481</td>\n",
              "      <td>0.103938</td>\n",
              "      <td>-0.095953</td>\n",
              "      <td>-0.023432</td>\n",
              "      <td>0.024036</td>\n",
              "      <td>0.187667</td>\n",
              "      <td>0.002626</td>\n",
              "      <td>-0.071350</td>\n",
              "      <td>-0.046056</td>\n",
              "      <td>0.013797</td>\n",
              "      <td>-0.065247</td>\n",
              "      <td>0.062502</td>\n",
              "      <td>0.008741</td>\n",
              "      <td>-0.163493</td>\n",
              "    </tr>\n",
              "    <tr>\n",
              "      <th>age_of_respondent</th>\n",
              "      <td>-0.119547</td>\n",
              "      <td>1.000000</td>\n",
              "      <td>0.047655</td>\n",
              "      <td>-0.047655</td>\n",
              "      <td>0.104113</td>\n",
              "      <td>-0.104113</td>\n",
              "      <td>-0.013100</td>\n",
              "      <td>0.013100</td>\n",
              "      <td>-0.302325</td>\n",
              "      <td>0.419336</td>\n",
              "      <td>-0.078561</td>\n",
              "      <td>-0.134793</td>\n",
              "      <td>-0.195991</td>\n",
              "      <td>-0.111117</td>\n",
              "      <td>-0.119387</td>\n",
              "      <td>0.005254</td>\n",
              "      <td>0.053952</td>\n",
              "      <td>-0.296677</td>\n",
              "      <td>0.461621</td>\n",
              "      <td>0.023996</td>\n",
              "      <td>0.360183</td>\n",
              "      <td>0.009445</td>\n",
              "      <td>-0.071826</td>\n",
              "      <td>-0.210080</td>\n",
              "      <td>-0.090580</td>\n",
              "      <td>-0.037097</td>\n",
              "      <td>-0.002809</td>\n",
              "      <td>0.153257</td>\n",
              "      <td>-0.005689</td>\n",
              "      <td>-0.061668</td>\n",
              "      <td>0.171601</td>\n",
              "      <td>-0.089167</td>\n",
              "      <td>-0.060368</td>\n",
              "      <td>-0.014707</td>\n",
              "      <td>-0.057696</td>\n",
              "      <td>0.000349</td>\n",
              "    </tr>\n",
              "    <tr>\n",
              "      <th>location_type_Rural</th>\n",
              "      <td>0.274296</td>\n",
              "      <td>0.047655</td>\n",
              "      <td>1.000000</td>\n",
              "      <td>-1.000000</td>\n",
              "      <td>-0.084423</td>\n",
              "      <td>0.084423</td>\n",
              "      <td>0.012489</td>\n",
              "      <td>-0.012489</td>\n",
              "      <td>0.068322</td>\n",
              "      <td>-0.017219</td>\n",
              "      <td>-0.032579</td>\n",
              "      <td>-0.029158</td>\n",
              "      <td>-0.074674</td>\n",
              "      <td>0.026720</td>\n",
              "      <td>-0.023734</td>\n",
              "      <td>-0.008905</td>\n",
              "      <td>0.234817</td>\n",
              "      <td>-0.268135</td>\n",
              "      <td>0.052526</td>\n",
              "      <td>-0.001230</td>\n",
              "      <td>0.090966</td>\n",
              "      <td>-0.008905</td>\n",
              "      <td>0.017799</td>\n",
              "      <td>-0.043652</td>\n",
              "      <td>-0.085323</td>\n",
              "      <td>-0.050948</td>\n",
              "      <td>0.022834</td>\n",
              "      <td>0.346450</td>\n",
              "      <td>-0.047438</td>\n",
              "      <td>-0.068602</td>\n",
              "      <td>0.001937</td>\n",
              "      <td>0.070555</td>\n",
              "      <td>-0.044953</td>\n",
              "      <td>-0.011042</td>\n",
              "      <td>-0.053887</td>\n",
              "      <td>-0.294831</td>\n",
              "    </tr>\n",
              "    <tr>\n",
              "      <th>location_type_Urban</th>\n",
              "      <td>-0.274296</td>\n",
              "      <td>-0.047655</td>\n",
              "      <td>-1.000000</td>\n",
              "      <td>1.000000</td>\n",
              "      <td>0.084423</td>\n",
              "      <td>-0.084423</td>\n",
              "      <td>-0.012489</td>\n",
              "      <td>0.012489</td>\n",
              "      <td>-0.068322</td>\n",
              "      <td>0.017219</td>\n",
              "      <td>0.032579</td>\n",
              "      <td>0.029158</td>\n",
              "      <td>0.074674</td>\n",
              "      <td>-0.026720</td>\n",
              "      <td>0.023734</td>\n",
              "      <td>0.008905</td>\n",
              "      <td>-0.234817</td>\n",
              "      <td>0.268135</td>\n",
              "      <td>-0.052526</td>\n",
              "      <td>0.001230</td>\n",
              "      <td>-0.090966</td>\n",
              "      <td>0.008905</td>\n",
              "      <td>-0.017799</td>\n",
              "      <td>0.043652</td>\n",
              "      <td>0.085323</td>\n",
              "      <td>0.050948</td>\n",
              "      <td>-0.022834</td>\n",
              "      <td>-0.346450</td>\n",
              "      <td>0.047438</td>\n",
              "      <td>0.068602</td>\n",
              "      <td>-0.001937</td>\n",
              "      <td>-0.070555</td>\n",
              "      <td>0.044953</td>\n",
              "      <td>0.011042</td>\n",
              "      <td>0.053887</td>\n",
              "      <td>0.294831</td>\n",
              "    </tr>\n",
              "    <tr>\n",
              "      <th>cellphone_access_No</th>\n",
              "      <td>-0.098881</td>\n",
              "      <td>0.104113</td>\n",
              "      <td>-0.084423</td>\n",
              "      <td>0.084423</td>\n",
              "      <td>1.000000</td>\n",
              "      <td>-1.000000</td>\n",
              "      <td>0.102169</td>\n",
              "      <td>-0.102169</td>\n",
              "      <td>0.003930</td>\n",
              "      <td>-0.055867</td>\n",
              "      <td>-0.024740</td>\n",
              "      <td>0.030711</td>\n",
              "      <td>0.049297</td>\n",
              "      <td>0.030039</td>\n",
              "      <td>0.028535</td>\n",
              "      <td>-0.005601</td>\n",
              "      <td>-0.157799</td>\n",
              "      <td>0.065687</td>\n",
              "      <td>0.124062</td>\n",
              "      <td>0.011611</td>\n",
              "      <td>0.204055</td>\n",
              "      <td>-0.005601</td>\n",
              "      <td>0.009968</td>\n",
              "      <td>-0.119593</td>\n",
              "      <td>-0.100158</td>\n",
              "      <td>-0.099071</td>\n",
              "      <td>-0.001960</td>\n",
              "      <td>-0.111528</td>\n",
              "      <td>-0.071675</td>\n",
              "      <td>-0.105542</td>\n",
              "      <td>0.058542</td>\n",
              "      <td>0.008582</td>\n",
              "      <td>0.103625</td>\n",
              "      <td>0.006944</td>\n",
              "      <td>0.083344</td>\n",
              "      <td>0.055129</td>\n",
              "    </tr>\n",
              "    <tr>\n",
              "      <th>cellphone_access_Yes</th>\n",
              "      <td>0.098881</td>\n",
              "      <td>-0.104113</td>\n",
              "      <td>0.084423</td>\n",
              "      <td>-0.084423</td>\n",
              "      <td>-1.000000</td>\n",
              "      <td>1.000000</td>\n",
              "      <td>-0.102169</td>\n",
              "      <td>0.102169</td>\n",
              "      <td>-0.003930</td>\n",
              "      <td>0.055867</td>\n",
              "      <td>0.024740</td>\n",
              "      <td>-0.030711</td>\n",
              "      <td>-0.049297</td>\n",
              "      <td>-0.030039</td>\n",
              "      <td>-0.028535</td>\n",
              "      <td>0.005601</td>\n",
              "      <td>0.157799</td>\n",
              "      <td>-0.065687</td>\n",
              "      <td>-0.124062</td>\n",
              "      <td>-0.011611</td>\n",
              "      <td>-0.204055</td>\n",
              "      <td>0.005601</td>\n",
              "      <td>-0.009968</td>\n",
              "      <td>0.119593</td>\n",
              "      <td>0.100158</td>\n",
              "      <td>0.099071</td>\n",
              "      <td>0.001960</td>\n",
              "      <td>0.111528</td>\n",
              "      <td>0.071675</td>\n",
              "      <td>0.105542</td>\n",
              "      <td>-0.058542</td>\n",
              "      <td>-0.008582</td>\n",
              "      <td>-0.103625</td>\n",
              "      <td>-0.006944</td>\n",
              "      <td>-0.083344</td>\n",
              "      <td>-0.055129</td>\n",
              "    </tr>\n",
              "    <tr>\n",
              "      <th>gender_of_respondent_Female</th>\n",
              "      <td>-0.011383</td>\n",
              "      <td>-0.013100</td>\n",
              "      <td>0.012489</td>\n",
              "      <td>-0.012489</td>\n",
              "      <td>0.102169</td>\n",
              "      <td>-0.102169</td>\n",
              "      <td>1.000000</td>\n",
              "      <td>-1.000000</td>\n",
              "      <td>-0.042803</td>\n",
              "      <td>-0.413189</td>\n",
              "      <td>-0.000604</td>\n",
              "      <td>-0.011653</td>\n",
              "      <td>-0.011577</td>\n",
              "      <td>0.497592</td>\n",
              "      <td>-0.004082</td>\n",
              "      <td>-0.017478</td>\n",
              "      <td>-0.056472</td>\n",
              "      <td>-0.085626</td>\n",
              "      <td>0.219903</td>\n",
              "      <td>0.005248</td>\n",
              "      <td>0.114309</td>\n",
              "      <td>-0.003401</td>\n",
              "      <td>-0.018783</td>\n",
              "      <td>-0.058427</td>\n",
              "      <td>-0.041081</td>\n",
              "      <td>-0.024421</td>\n",
              "      <td>0.006619</td>\n",
              "      <td>0.001083</td>\n",
              "      <td>-0.028949</td>\n",
              "      <td>-0.061883</td>\n",
              "      <td>0.023870</td>\n",
              "      <td>-0.052365</td>\n",
              "      <td>0.072936</td>\n",
              "      <td>0.011060</td>\n",
              "      <td>0.120121</td>\n",
              "      <td>-0.035495</td>\n",
              "    </tr>\n",
              "    <tr>\n",
              "      <th>gender_of_respondent_Male</th>\n",
              "      <td>0.011383</td>\n",
              "      <td>0.013100</td>\n",
              "      <td>-0.012489</td>\n",
              "      <td>0.012489</td>\n",
              "      <td>-0.102169</td>\n",
              "      <td>0.102169</td>\n",
              "      <td>-1.000000</td>\n",
              "      <td>1.000000</td>\n",
              "      <td>0.042803</td>\n",
              "      <td>0.413189</td>\n",
              "      <td>0.000604</td>\n",
              "      <td>0.011653</td>\n",
              "      <td>0.011577</td>\n",
              "      <td>-0.497592</td>\n",
              "      <td>0.004082</td>\n",
              "      <td>0.017478</td>\n",
              "      <td>0.056472</td>\n",
              "      <td>0.085626</td>\n",
              "      <td>-0.219903</td>\n",
              "      <td>-0.005248</td>\n",
              "      <td>-0.114309</td>\n",
              "      <td>0.003401</td>\n",
              "      <td>0.018783</td>\n",
              "      <td>0.058427</td>\n",
              "      <td>0.041081</td>\n",
              "      <td>0.024421</td>\n",
              "      <td>-0.006619</td>\n",
              "      <td>-0.001083</td>\n",
              "      <td>0.028949</td>\n",
              "      <td>0.061883</td>\n",
              "      <td>-0.023870</td>\n",
              "      <td>0.052365</td>\n",
              "      <td>-0.072936</td>\n",
              "      <td>-0.011060</td>\n",
              "      <td>-0.120121</td>\n",
              "      <td>0.035495</td>\n",
              "    </tr>\n",
              "    <tr>\n",
              "      <th>relationship_with_head_Child</th>\n",
              "      <td>0.204176</td>\n",
              "      <td>-0.302325</td>\n",
              "      <td>0.068322</td>\n",
              "      <td>-0.068322</td>\n",
              "      <td>0.003930</td>\n",
              "      <td>-0.003930</td>\n",
              "      <td>-0.042803</td>\n",
              "      <td>0.042803</td>\n",
              "      <td>1.000000</td>\n",
              "      <td>-0.354756</td>\n",
              "      <td>-0.029157</td>\n",
              "      <td>-0.055301</td>\n",
              "      <td>-0.071139</td>\n",
              "      <td>-0.200394</td>\n",
              "      <td>0.007607</td>\n",
              "      <td>0.001899</td>\n",
              "      <td>-0.268374</td>\n",
              "      <td>0.335742</td>\n",
              "      <td>-0.085662</td>\n",
              "      <td>-0.010982</td>\n",
              "      <td>-0.110286</td>\n",
              "      <td>0.009773</td>\n",
              "      <td>-0.077445</td>\n",
              "      <td>0.210539</td>\n",
              "      <td>0.010443</td>\n",
              "      <td>-0.004934</td>\n",
              "      <td>0.000096</td>\n",
              "      <td>0.000566</td>\n",
              "      <td>-0.020214</td>\n",
              "      <td>-0.034324</td>\n",
              "      <td>-0.017705</td>\n",
              "      <td>0.028643</td>\n",
              "      <td>-0.017339</td>\n",
              "      <td>-0.003714</td>\n",
              "      <td>0.197010</td>\n",
              "      <td>-0.130870</td>\n",
              "    </tr>\n",
              "    <tr>\n",
              "      <th>relationship_with_head_Head of Household</th>\n",
              "      <td>-0.243987</td>\n",
              "      <td>0.419336</td>\n",
              "      <td>-0.017219</td>\n",
              "      <td>0.017219</td>\n",
              "      <td>-0.055867</td>\n",
              "      <td>0.055867</td>\n",
              "      <td>-0.413189</td>\n",
              "      <td>0.413189</td>\n",
              "      <td>-0.354756</td>\n",
              "      <td>1.000000</td>\n",
              "      <td>-0.098700</td>\n",
              "      <td>-0.187203</td>\n",
              "      <td>-0.240816</td>\n",
              "      <td>-0.678363</td>\n",
              "      <td>0.011954</td>\n",
              "      <td>0.007576</td>\n",
              "      <td>-0.013713</td>\n",
              "      <td>-0.187531</td>\n",
              "      <td>0.288582</td>\n",
              "      <td>0.000676</td>\n",
              "      <td>0.123802</td>\n",
              "      <td>0.002942</td>\n",
              "      <td>-0.012941</td>\n",
              "      <td>-0.115731</td>\n",
              "      <td>-0.001847</td>\n",
              "      <td>0.013576</td>\n",
              "      <td>0.002633</td>\n",
              "      <td>0.025659</td>\n",
              "      <td>0.037506</td>\n",
              "      <td>0.058031</td>\n",
              "      <td>0.058867</td>\n",
              "      <td>0.015958</td>\n",
              "      <td>-0.109788</td>\n",
              "      <td>-0.012966</td>\n",
              "      <td>-0.152765</td>\n",
              "      <td>0.060692</td>\n",
              "    </tr>\n",
              "    <tr>\n",
              "      <th>relationship_with_head_Other non-relatives</th>\n",
              "      <td>0.020907</td>\n",
              "      <td>-0.078561</td>\n",
              "      <td>-0.032579</td>\n",
              "      <td>0.032579</td>\n",
              "      <td>-0.024740</td>\n",
              "      <td>0.024740</td>\n",
              "      <td>-0.000604</td>\n",
              "      <td>0.000604</td>\n",
              "      <td>-0.029157</td>\n",
              "      <td>-0.098700</td>\n",
              "      <td>1.000000</td>\n",
              "      <td>-0.015386</td>\n",
              "      <td>-0.019792</td>\n",
              "      <td>-0.055753</td>\n",
              "      <td>0.046012</td>\n",
              "      <td>-0.001662</td>\n",
              "      <td>-0.071384</td>\n",
              "      <td>0.065530</td>\n",
              "      <td>-0.026475</td>\n",
              "      <td>-0.003055</td>\n",
              "      <td>-0.028090</td>\n",
              "      <td>-0.001662</td>\n",
              "      <td>0.015450</td>\n",
              "      <td>0.005060</td>\n",
              "      <td>0.003779</td>\n",
              "      <td>0.004035</td>\n",
              "      <td>-0.006614</td>\n",
              "      <td>-0.039235</td>\n",
              "      <td>-0.004170</td>\n",
              "      <td>0.084117</td>\n",
              "      <td>-0.009285</td>\n",
              "      <td>0.037085</td>\n",
              "      <td>0.005864</td>\n",
              "      <td>0.007552</td>\n",
              "      <td>-0.000452</td>\n",
              "      <td>-0.038258</td>\n",
              "    </tr>\n",
              "    <tr>\n",
              "      <th>relationship_with_head_Other relative</th>\n",
              "      <td>0.014008</td>\n",
              "      <td>-0.134793</td>\n",
              "      <td>-0.029158</td>\n",
              "      <td>0.029158</td>\n",
              "      <td>0.030711</td>\n",
              "      <td>-0.030711</td>\n",
              "      <td>-0.011653</td>\n",
              "      <td>0.011653</td>\n",
              "      <td>-0.055301</td>\n",
              "      <td>-0.187203</td>\n",
              "      <td>-0.015386</td>\n",
              "      <td>1.000000</td>\n",
              "      <td>-0.037540</td>\n",
              "      <td>-0.105747</td>\n",
              "      <td>0.112573</td>\n",
              "      <td>0.010748</td>\n",
              "      <td>-0.112376</td>\n",
              "      <td>0.073563</td>\n",
              "      <td>-0.034206</td>\n",
              "      <td>0.001774</td>\n",
              "      <td>-0.051198</td>\n",
              "      <td>-0.003153</td>\n",
              "      <td>-0.039364</td>\n",
              "      <td>0.071152</td>\n",
              "      <td>0.029998</td>\n",
              "      <td>0.032792</td>\n",
              "      <td>-0.005523</td>\n",
              "      <td>-0.066336</td>\n",
              "      <td>-0.016066</td>\n",
              "      <td>0.023727</td>\n",
              "      <td>-0.005038</td>\n",
              "      <td>-0.004921</td>\n",
              "      <td>0.045149</td>\n",
              "      <td>0.022550</td>\n",
              "      <td>0.093199</td>\n",
              "      <td>-0.028507</td>\n",
              "    </tr>\n",
              "    <tr>\n",
              "      <th>relationship_with_head_Parent</th>\n",
              "      <td>0.042549</td>\n",
              "      <td>-0.195991</td>\n",
              "      <td>-0.074674</td>\n",
              "      <td>0.074674</td>\n",
              "      <td>0.049297</td>\n",
              "      <td>-0.049297</td>\n",
              "      <td>-0.011577</td>\n",
              "      <td>0.011577</td>\n",
              "      <td>-0.071139</td>\n",
              "      <td>-0.240816</td>\n",
              "      <td>-0.019792</td>\n",
              "      <td>-0.037540</td>\n",
              "      <td>1.000000</td>\n",
              "      <td>-0.136032</td>\n",
              "      <td>0.257839</td>\n",
              "      <td>-0.004056</td>\n",
              "      <td>-0.159372</td>\n",
              "      <td>0.049777</td>\n",
              "      <td>-0.053706</td>\n",
              "      <td>-0.007455</td>\n",
              "      <td>-0.068754</td>\n",
              "      <td>-0.004056</td>\n",
              "      <td>-0.009304</td>\n",
              "      <td>0.057571</td>\n",
              "      <td>0.050590</td>\n",
              "      <td>-0.005578</td>\n",
              "      <td>0.003324</td>\n",
              "      <td>-0.069009</td>\n",
              "      <td>-0.018870</td>\n",
              "      <td>-0.008350</td>\n",
              "      <td>-0.008717</td>\n",
              "      <td>-0.036252</td>\n",
              "      <td>0.148085</td>\n",
              "      <td>0.017748</td>\n",
              "      <td>0.025468</td>\n",
              "      <td>0.031133</td>\n",
              "    </tr>\n",
              "    <tr>\n",
              "      <th>relationship_with_head_Spouse</th>\n",
              "      <td>0.108472</td>\n",
              "      <td>-0.111117</td>\n",
              "      <td>0.026720</td>\n",
              "      <td>-0.026720</td>\n",
              "      <td>0.030039</td>\n",
              "      <td>-0.030039</td>\n",
              "      <td>0.497592</td>\n",
              "      <td>-0.497592</td>\n",
              "      <td>-0.200394</td>\n",
              "      <td>-0.678363</td>\n",
              "      <td>-0.055753</td>\n",
              "      <td>-0.105747</td>\n",
              "      <td>-0.136032</td>\n",
              "      <td>1.000000</td>\n",
              "      <td>-0.189992</td>\n",
              "      <td>-0.011426</td>\n",
              "      <td>0.321551</td>\n",
              "      <td>-0.074862</td>\n",
              "      <td>-0.221852</td>\n",
              "      <td>0.009883</td>\n",
              "      <td>-0.008729</td>\n",
              "      <td>-0.006271</td>\n",
              "      <td>0.080977</td>\n",
              "      <td>-0.063455</td>\n",
              "      <td>-0.040360</td>\n",
              "      <td>-0.022229</td>\n",
              "      <td>-0.001180</td>\n",
              "      <td>0.035842</td>\n",
              "      <td>-0.012863</td>\n",
              "      <td>-0.063772</td>\n",
              "      <td>-0.046097</td>\n",
              "      <td>-0.025106</td>\n",
              "      <td>0.046219</td>\n",
              "      <td>-0.001327</td>\n",
              "      <td>-0.005434</td>\n",
              "      <td>0.021789</td>\n",
              "    </tr>\n",
              "    <tr>\n",
              "      <th>marital_status_Divorced/Seperated</th>\n",
              "      <td>-0.129591</td>\n",
              "      <td>-0.119387</td>\n",
              "      <td>-0.023734</td>\n",
              "      <td>0.023734</td>\n",
              "      <td>0.028535</td>\n",
              "      <td>-0.028535</td>\n",
              "      <td>-0.004082</td>\n",
              "      <td>0.004082</td>\n",
              "      <td>0.007607</td>\n",
              "      <td>0.011954</td>\n",
              "      <td>0.046012</td>\n",
              "      <td>0.112573</td>\n",
              "      <td>0.257839</td>\n",
              "      <td>-0.189992</td>\n",
              "      <td>1.000000</td>\n",
              "      <td>-0.005735</td>\n",
              "      <td>-0.285859</td>\n",
              "      <td>-0.222170</td>\n",
              "      <td>-0.111957</td>\n",
              "      <td>-0.001673</td>\n",
              "      <td>-0.032085</td>\n",
              "      <td>-0.005735</td>\n",
              "      <td>-0.018822</td>\n",
              "      <td>-0.002035</td>\n",
              "      <td>0.098986</td>\n",
              "      <td>0.008517</td>\n",
              "      <td>-0.010477</td>\n",
              "      <td>-0.082078</td>\n",
              "      <td>-0.021332</td>\n",
              "      <td>0.040870</td>\n",
              "      <td>-0.015830</td>\n",
              "      <td>0.034561</td>\n",
              "      <td>0.093487</td>\n",
              "      <td>-0.012919</td>\n",
              "      <td>-0.007789</td>\n",
              "      <td>0.014847</td>\n",
              "    </tr>\n",
              "    <tr>\n",
              "      <th>marital_status_Dont know</th>\n",
              "      <td>-0.008562</td>\n",
              "      <td>0.005254</td>\n",
              "      <td>-0.008905</td>\n",
              "      <td>0.008905</td>\n",
              "      <td>-0.005601</td>\n",
              "      <td>0.005601</td>\n",
              "      <td>-0.017478</td>\n",
              "      <td>0.017478</td>\n",
              "      <td>0.001899</td>\n",
              "      <td>0.007576</td>\n",
              "      <td>-0.001662</td>\n",
              "      <td>0.010748</td>\n",
              "      <td>-0.004056</td>\n",
              "      <td>-0.011426</td>\n",
              "      <td>-0.005735</td>\n",
              "      <td>1.000000</td>\n",
              "      <td>-0.016982</td>\n",
              "      <td>-0.013198</td>\n",
              "      <td>-0.006651</td>\n",
              "      <td>-0.000626</td>\n",
              "      <td>-0.003120</td>\n",
              "      <td>-0.000341</td>\n",
              "      <td>0.007628</td>\n",
              "      <td>-0.002621</td>\n",
              "      <td>-0.004196</td>\n",
              "      <td>-0.003473</td>\n",
              "      <td>-0.001356</td>\n",
              "      <td>-0.004654</td>\n",
              "      <td>-0.002389</td>\n",
              "      <td>0.007151</td>\n",
              "      <td>-0.001903</td>\n",
              "      <td>0.005965</td>\n",
              "      <td>-0.003049</td>\n",
              "      <td>-0.004050</td>\n",
              "      <td>0.001051</td>\n",
              "      <td>-0.000999</td>\n",
              "    </tr>\n",
              "    <tr>\n",
              "      <th>marital_status_Married/Living together</th>\n",
              "      <td>0.345318</td>\n",
              "      <td>0.053952</td>\n",
              "      <td>0.234817</td>\n",
              "      <td>-0.234817</td>\n",
              "      <td>-0.157799</td>\n",
              "      <td>0.157799</td>\n",
              "      <td>-0.056472</td>\n",
              "      <td>0.056472</td>\n",
              "      <td>-0.268374</td>\n",
              "      <td>-0.013713</td>\n",
              "      <td>-0.071384</td>\n",
              "      <td>-0.112376</td>\n",
              "      <td>-0.159372</td>\n",
              "      <td>0.321551</td>\n",
              "      <td>-0.285859</td>\n",
              "      <td>-0.016982</td>\n",
              "      <td>1.000000</td>\n",
              "      <td>-0.657821</td>\n",
              "      <td>-0.331491</td>\n",
              "      <td>0.009136</td>\n",
              "      <td>-0.008013</td>\n",
              "      <td>0.006172</td>\n",
              "      <td>0.038718</td>\n",
              "      <td>0.004312</td>\n",
              "      <td>-0.092110</td>\n",
              "      <td>0.009358</td>\n",
              "      <td>0.021338</td>\n",
              "      <td>0.213274</td>\n",
              "      <td>0.068866</td>\n",
              "      <td>-0.022586</td>\n",
              "      <td>-0.057149</td>\n",
              "      <td>0.034139</td>\n",
              "      <td>-0.076005</td>\n",
              "      <td>0.032808</td>\n",
              "      <td>-0.123950</td>\n",
              "      <td>-0.135744</td>\n",
              "    </tr>\n",
              "    <tr>\n",
              "      <th>marital_status_Single/Never Married</th>\n",
              "      <td>-0.182147</td>\n",
              "      <td>-0.296677</td>\n",
              "      <td>-0.268135</td>\n",
              "      <td>0.268135</td>\n",
              "      <td>0.065687</td>\n",
              "      <td>-0.065687</td>\n",
              "      <td>-0.085626</td>\n",
              "      <td>0.085626</td>\n",
              "      <td>0.335742</td>\n",
              "      <td>-0.187531</td>\n",
              "      <td>0.065530</td>\n",
              "      <td>0.073563</td>\n",
              "      <td>0.049777</td>\n",
              "      <td>-0.074862</td>\n",
              "      <td>-0.222170</td>\n",
              "      <td>-0.013198</td>\n",
              "      <td>-0.657821</td>\n",
              "      <td>1.000000</td>\n",
              "      <td>-0.257635</td>\n",
              "      <td>-0.016290</td>\n",
              "      <td>-0.159551</td>\n",
              "      <td>0.001432</td>\n",
              "      <td>0.027074</td>\n",
              "      <td>0.078017</td>\n",
              "      <td>0.079768</td>\n",
              "      <td>0.014532</td>\n",
              "      <td>-0.019250</td>\n",
              "      <td>-0.228551</td>\n",
              "      <td>-0.037410</td>\n",
              "      <td>0.038602</td>\n",
              "      <td>-0.020784</td>\n",
              "      <td>-0.028979</td>\n",
              "      <td>0.026244</td>\n",
              "      <td>-0.032248</td>\n",
              "      <td>0.107198</td>\n",
              "      <td>0.175639</td>\n",
              "    </tr>\n",
              "    <tr>\n",
              "      <th>marital_status_Widowed</th>\n",
              "      <td>-0.153653</td>\n",
              "      <td>0.461621</td>\n",
              "      <td>0.052526</td>\n",
              "      <td>-0.052526</td>\n",
              "      <td>0.124062</td>\n",
              "      <td>-0.124062</td>\n",
              "      <td>0.219903</td>\n",
              "      <td>-0.219903</td>\n",
              "      <td>-0.085662</td>\n",
              "      <td>0.288582</td>\n",
              "      <td>-0.026475</td>\n",
              "      <td>-0.034206</td>\n",
              "      <td>-0.053706</td>\n",
              "      <td>-0.221852</td>\n",
              "      <td>-0.111957</td>\n",
              "      <td>-0.006651</td>\n",
              "      <td>-0.331491</td>\n",
              "      <td>-0.257635</td>\n",
              "      <td>1.000000</td>\n",
              "      <td>0.011415</td>\n",
              "      <td>0.277915</td>\n",
              "      <td>-0.006651</td>\n",
              "      <td>-0.084376</td>\n",
              "      <td>-0.120522</td>\n",
              "      <td>-0.062139</td>\n",
              "      <td>-0.043547</td>\n",
              "      <td>0.004608</td>\n",
              "      <td>0.079053</td>\n",
              "      <td>-0.033003</td>\n",
              "      <td>-0.058707</td>\n",
              "      <td>0.134299</td>\n",
              "      <td>-0.041400</td>\n",
              "      <td>-0.003075</td>\n",
              "      <td>0.008298</td>\n",
              "      <td>0.041482</td>\n",
              "      <td>-0.061622</td>\n",
              "    </tr>\n",
              "    <tr>\n",
              "      <th>education_level_6</th>\n",
              "      <td>0.001970</td>\n",
              "      <td>0.023996</td>\n",
              "      <td>-0.001230</td>\n",
              "      <td>0.001230</td>\n",
              "      <td>0.011611</td>\n",
              "      <td>-0.011611</td>\n",
              "      <td>0.005248</td>\n",
              "      <td>-0.005248</td>\n",
              "      <td>-0.010982</td>\n",
              "      <td>0.000676</td>\n",
              "      <td>-0.003055</td>\n",
              "      <td>0.001774</td>\n",
              "      <td>-0.007455</td>\n",
              "      <td>0.009883</td>\n",
              "      <td>-0.001673</td>\n",
              "      <td>-0.000626</td>\n",
              "      <td>0.009136</td>\n",
              "      <td>-0.016290</td>\n",
              "      <td>0.011415</td>\n",
              "      <td>1.000000</td>\n",
              "      <td>-0.016510</td>\n",
              "      <td>-0.000626</td>\n",
              "      <td>-0.037068</td>\n",
              "      <td>-0.015867</td>\n",
              "      <td>-0.007711</td>\n",
              "      <td>-0.006383</td>\n",
              "      <td>-0.002491</td>\n",
              "      <td>-0.018609</td>\n",
              "      <td>-0.004391</td>\n",
              "      <td>-0.001278</td>\n",
              "      <td>0.008820</td>\n",
              "      <td>0.025357</td>\n",
              "      <td>0.017835</td>\n",
              "      <td>-0.001442</td>\n",
              "      <td>-0.003649</td>\n",
              "      <td>-0.009582</td>\n",
              "    </tr>\n",
              "    <tr>\n",
              "      <th>education_level_No formal education</th>\n",
              "      <td>-0.007242</td>\n",
              "      <td>0.360183</td>\n",
              "      <td>0.090966</td>\n",
              "      <td>-0.090966</td>\n",
              "      <td>0.204055</td>\n",
              "      <td>-0.204055</td>\n",
              "      <td>0.114309</td>\n",
              "      <td>-0.114309</td>\n",
              "      <td>-0.110286</td>\n",
              "      <td>0.123802</td>\n",
              "      <td>-0.028090</td>\n",
              "      <td>-0.051198</td>\n",
              "      <td>-0.068754</td>\n",
              "      <td>-0.008729</td>\n",
              "      <td>-0.032085</td>\n",
              "      <td>-0.003120</td>\n",
              "      <td>-0.008013</td>\n",
              "      <td>-0.159551</td>\n",
              "      <td>0.277915</td>\n",
              "      <td>-0.016510</td>\n",
              "      <td>1.000000</td>\n",
              "      <td>-0.008983</td>\n",
              "      <td>-0.531781</td>\n",
              "      <td>-0.227632</td>\n",
              "      <td>-0.110628</td>\n",
              "      <td>-0.091566</td>\n",
              "      <td>-0.009079</td>\n",
              "      <td>0.092522</td>\n",
              "      <td>-0.059592</td>\n",
              "      <td>-0.088183</td>\n",
              "      <td>0.088781</td>\n",
              "      <td>0.014951</td>\n",
              "      <td>-0.003699</td>\n",
              "      <td>-0.011696</td>\n",
              "      <td>0.003506</td>\n",
              "      <td>-0.058234</td>\n",
              "    </tr>\n",
              "    <tr>\n",
              "      <th>education_level_Other/Dont know/RTA</th>\n",
              "      <td>0.004595</td>\n",
              "      <td>0.009445</td>\n",
              "      <td>-0.008905</td>\n",
              "      <td>0.008905</td>\n",
              "      <td>-0.005601</td>\n",
              "      <td>0.005601</td>\n",
              "      <td>-0.003401</td>\n",
              "      <td>0.003401</td>\n",
              "      <td>0.009773</td>\n",
              "      <td>0.002942</td>\n",
              "      <td>-0.001662</td>\n",
              "      <td>-0.003153</td>\n",
              "      <td>-0.004056</td>\n",
              "      <td>-0.006271</td>\n",
              "      <td>-0.005735</td>\n",
              "      <td>-0.000341</td>\n",
              "      <td>0.006172</td>\n",
              "      <td>0.001432</td>\n",
              "      <td>-0.006651</td>\n",
              "      <td>-0.000626</td>\n",
              "      <td>-0.008983</td>\n",
              "      <td>1.000000</td>\n",
              "      <td>-0.020169</td>\n",
              "      <td>-0.008633</td>\n",
              "      <td>-0.004196</td>\n",
              "      <td>-0.003473</td>\n",
              "      <td>-0.001356</td>\n",
              "      <td>-0.010126</td>\n",
              "      <td>0.033861</td>\n",
              "      <td>0.007151</td>\n",
              "      <td>-0.001903</td>\n",
              "      <td>-0.004879</td>\n",
              "      <td>-0.003049</td>\n",
              "      <td>0.017992</td>\n",
              "      <td>-0.006402</td>\n",
              "      <td>-0.000999</td>\n",
              "    </tr>\n",
              "    <tr>\n",
              "      <th>education_level_Primary education</th>\n",
              "      <td>-0.024481</td>\n",
              "      <td>-0.071826</td>\n",
              "      <td>0.017799</td>\n",
              "      <td>-0.017799</td>\n",
              "      <td>0.009968</td>\n",
              "      <td>-0.009968</td>\n",
              "      <td>-0.018783</td>\n",
              "      <td>0.018783</td>\n",
              "      <td>-0.077445</td>\n",
              "      <td>-0.012941</td>\n",
              "      <td>0.015450</td>\n",
              "      <td>-0.039364</td>\n",
              "      <td>-0.009304</td>\n",
              "      <td>0.080977</td>\n",
              "      <td>-0.018822</td>\n",
              "      <td>0.007628</td>\n",
              "      <td>0.038718</td>\n",
              "      <td>0.027074</td>\n",
              "      <td>-0.084376</td>\n",
              "      <td>-0.037068</td>\n",
              "      <td>-0.531781</td>\n",
              "      <td>-0.020169</td>\n",
              "      <td>1.000000</td>\n",
              "      <td>-0.511061</td>\n",
              "      <td>-0.248374</td>\n",
              "      <td>-0.205577</td>\n",
              "      <td>0.007527</td>\n",
              "      <td>0.009609</td>\n",
              "      <td>-0.113221</td>\n",
              "      <td>-0.102050</td>\n",
              "      <td>-0.035545</td>\n",
              "      <td>0.071815</td>\n",
              "      <td>-0.014659</td>\n",
              "      <td>-0.029475</td>\n",
              "      <td>-0.115545</td>\n",
              "      <td>0.108263</td>\n",
              "    </tr>\n",
              "    <tr>\n",
              "      <th>education_level_Secondary education</th>\n",
              "      <td>0.103938</td>\n",
              "      <td>-0.210080</td>\n",
              "      <td>-0.043652</td>\n",
              "      <td>0.043652</td>\n",
              "      <td>-0.119593</td>\n",
              "      <td>0.119593</td>\n",
              "      <td>-0.058427</td>\n",
              "      <td>0.058427</td>\n",
              "      <td>0.210539</td>\n",
              "      <td>-0.115731</td>\n",
              "      <td>0.005060</td>\n",
              "      <td>0.071152</td>\n",
              "      <td>0.057571</td>\n",
              "      <td>-0.063455</td>\n",
              "      <td>-0.002035</td>\n",
              "      <td>-0.002621</td>\n",
              "      <td>0.004312</td>\n",
              "      <td>0.078017</td>\n",
              "      <td>-0.120522</td>\n",
              "      <td>-0.015867</td>\n",
              "      <td>-0.227632</td>\n",
              "      <td>-0.008633</td>\n",
              "      <td>-0.511061</td>\n",
              "      <td>1.000000</td>\n",
              "      <td>-0.106318</td>\n",
              "      <td>-0.087999</td>\n",
              "      <td>0.011214</td>\n",
              "      <td>-0.025047</td>\n",
              "      <td>0.052756</td>\n",
              "      <td>0.040203</td>\n",
              "      <td>-0.038430</td>\n",
              "      <td>-0.055328</td>\n",
              "      <td>0.020002</td>\n",
              "      <td>0.048394</td>\n",
              "      <td>0.125174</td>\n",
              "      <td>-0.067093</td>\n",
              "    </tr>\n",
              "    <tr>\n",
              "      <th>education_level_Tertiary education</th>\n",
              "      <td>-0.095953</td>\n",
              "      <td>-0.090580</td>\n",
              "      <td>-0.085323</td>\n",
              "      <td>0.085323</td>\n",
              "      <td>-0.100158</td>\n",
              "      <td>0.100158</td>\n",
              "      <td>-0.041081</td>\n",
              "      <td>0.041081</td>\n",
              "      <td>0.010443</td>\n",
              "      <td>-0.001847</td>\n",
              "      <td>0.003779</td>\n",
              "      <td>0.029998</td>\n",
              "      <td>0.050590</td>\n",
              "      <td>-0.040360</td>\n",
              "      <td>0.098986</td>\n",
              "      <td>-0.004196</td>\n",
              "      <td>-0.092110</td>\n",
              "      <td>0.079768</td>\n",
              "      <td>-0.062139</td>\n",
              "      <td>-0.007711</td>\n",
              "      <td>-0.110628</td>\n",
              "      <td>-0.004196</td>\n",
              "      <td>-0.248374</td>\n",
              "      <td>-0.106318</td>\n",
              "      <td>1.000000</td>\n",
              "      <td>-0.042767</td>\n",
              "      <td>-0.011300</td>\n",
              "      <td>-0.099935</td>\n",
              "      <td>0.157808</td>\n",
              "      <td>0.163975</td>\n",
              "      <td>-0.007986</td>\n",
              "      <td>-0.045851</td>\n",
              "      <td>0.020017</td>\n",
              "      <td>-0.005657</td>\n",
              "      <td>0.031870</td>\n",
              "      <td>-0.005898</td>\n",
              "    </tr>\n",
              "    <tr>\n",
              "      <th>education_level_Vocational/Specialised training</th>\n",
              "      <td>-0.023432</td>\n",
              "      <td>-0.037097</td>\n",
              "      <td>-0.050948</td>\n",
              "      <td>0.050948</td>\n",
              "      <td>-0.099071</td>\n",
              "      <td>0.099071</td>\n",
              "      <td>-0.024421</td>\n",
              "      <td>0.024421</td>\n",
              "      <td>-0.004934</td>\n",
              "      <td>0.013576</td>\n",
              "      <td>0.004035</td>\n",
              "      <td>0.032792</td>\n",
              "      <td>-0.005578</td>\n",
              "      <td>-0.022229</td>\n",
              "      <td>0.008517</td>\n",
              "      <td>-0.003473</td>\n",
              "      <td>0.009358</td>\n",
              "      <td>0.014532</td>\n",
              "      <td>-0.043547</td>\n",
              "      <td>-0.006383</td>\n",
              "      <td>-0.091566</td>\n",
              "      <td>-0.003473</td>\n",
              "      <td>-0.205577</td>\n",
              "      <td>-0.087999</td>\n",
              "      <td>-0.042767</td>\n",
              "      <td>1.000000</td>\n",
              "      <td>-0.010610</td>\n",
              "      <td>-0.050420</td>\n",
              "      <td>0.137617</td>\n",
              "      <td>0.190218</td>\n",
              "      <td>-0.005614</td>\n",
              "      <td>-0.062051</td>\n",
              "      <td>-0.020883</td>\n",
              "      <td>0.009078</td>\n",
              "      <td>0.008157</td>\n",
              "      <td>-0.020030</td>\n",
              "    </tr>\n",
              "    <tr>\n",
              "      <th>job_type_Dont Know/Refuse to answer</th>\n",
              "      <td>0.024036</td>\n",
              "      <td>-0.002809</td>\n",
              "      <td>0.022834</td>\n",
              "      <td>-0.022834</td>\n",
              "      <td>-0.001960</td>\n",
              "      <td>0.001960</td>\n",
              "      <td>0.006619</td>\n",
              "      <td>-0.006619</td>\n",
              "      <td>0.000096</td>\n",
              "      <td>0.002633</td>\n",
              "      <td>-0.006614</td>\n",
              "      <td>-0.005523</td>\n",
              "      <td>0.003324</td>\n",
              "      <td>-0.001180</td>\n",
              "      <td>-0.010477</td>\n",
              "      <td>-0.001356</td>\n",
              "      <td>0.021338</td>\n",
              "      <td>-0.019250</td>\n",
              "      <td>0.004608</td>\n",
              "      <td>-0.002491</td>\n",
              "      <td>-0.009079</td>\n",
              "      <td>-0.001356</td>\n",
              "      <td>0.007527</td>\n",
              "      <td>0.011214</td>\n",
              "      <td>-0.011300</td>\n",
              "      <td>-0.010610</td>\n",
              "      <td>1.000000</td>\n",
              "      <td>-0.040286</td>\n",
              "      <td>-0.009505</td>\n",
              "      <td>-0.015910</td>\n",
              "      <td>-0.007571</td>\n",
              "      <td>-0.040985</td>\n",
              "      <td>-0.012132</td>\n",
              "      <td>-0.016115</td>\n",
              "      <td>-0.025471</td>\n",
              "      <td>-0.045133</td>\n",
              "    </tr>\n",
              "    <tr>\n",
              "      <th>job_type_Farming and Fishing</th>\n",
              "      <td>0.187667</td>\n",
              "      <td>0.153257</td>\n",
              "      <td>0.346450</td>\n",
              "      <td>-0.346450</td>\n",
              "      <td>-0.111528</td>\n",
              "      <td>0.111528</td>\n",
              "      <td>0.001083</td>\n",
              "      <td>-0.001083</td>\n",
              "      <td>0.000566</td>\n",
              "      <td>0.025659</td>\n",
              "      <td>-0.039235</td>\n",
              "      <td>-0.066336</td>\n",
              "      <td>-0.069009</td>\n",
              "      <td>0.035842</td>\n",
              "      <td>-0.082078</td>\n",
              "      <td>-0.004654</td>\n",
              "      <td>0.213274</td>\n",
              "      <td>-0.228551</td>\n",
              "      <td>0.079053</td>\n",
              "      <td>-0.018609</td>\n",
              "      <td>0.092522</td>\n",
              "      <td>-0.010126</td>\n",
              "      <td>0.009609</td>\n",
              "      <td>-0.025047</td>\n",
              "      <td>-0.099935</td>\n",
              "      <td>-0.050420</td>\n",
              "      <td>-0.040286</td>\n",
              "      <td>1.000000</td>\n",
              "      <td>-0.071000</td>\n",
              "      <td>-0.118843</td>\n",
              "      <td>-0.056551</td>\n",
              "      <td>-0.306135</td>\n",
              "      <td>-0.090623</td>\n",
              "      <td>-0.120371</td>\n",
              "      <td>-0.190255</td>\n",
              "      <td>-0.337117</td>\n",
              "    </tr>\n",
              "    <tr>\n",
              "      <th>job_type_Formally employed Government</th>\n",
              "      <td>0.002626</td>\n",
              "      <td>-0.005689</td>\n",
              "      <td>-0.047438</td>\n",
              "      <td>0.047438</td>\n",
              "      <td>-0.071675</td>\n",
              "      <td>0.071675</td>\n",
              "      <td>-0.028949</td>\n",
              "      <td>0.028949</td>\n",
              "      <td>-0.020214</td>\n",
              "      <td>0.037506</td>\n",
              "      <td>-0.004170</td>\n",
              "      <td>-0.016066</td>\n",
              "      <td>-0.018870</td>\n",
              "      <td>-0.012863</td>\n",
              "      <td>-0.021332</td>\n",
              "      <td>-0.002389</td>\n",
              "      <td>0.068866</td>\n",
              "      <td>-0.037410</td>\n",
              "      <td>-0.033003</td>\n",
              "      <td>-0.004391</td>\n",
              "      <td>-0.059592</td>\n",
              "      <td>0.033861</td>\n",
              "      <td>-0.113221</td>\n",
              "      <td>0.052756</td>\n",
              "      <td>0.157808</td>\n",
              "      <td>0.137617</td>\n",
              "      <td>-0.009505</td>\n",
              "      <td>-0.071000</td>\n",
              "      <td>1.000000</td>\n",
              "      <td>-0.028041</td>\n",
              "      <td>-0.013343</td>\n",
              "      <td>-0.072232</td>\n",
              "      <td>-0.021382</td>\n",
              "      <td>-0.028401</td>\n",
              "      <td>-0.044891</td>\n",
              "      <td>-0.079543</td>\n",
              "    </tr>\n",
              "    <tr>\n",
              "      <th>job_type_Formally employed Private</th>\n",
              "      <td>-0.071350</td>\n",
              "      <td>-0.061668</td>\n",
              "      <td>-0.068602</td>\n",
              "      <td>0.068602</td>\n",
              "      <td>-0.105542</td>\n",
              "      <td>0.105542</td>\n",
              "      <td>-0.061883</td>\n",
              "      <td>0.061883</td>\n",
              "      <td>-0.034324</td>\n",
              "      <td>0.058031</td>\n",
              "      <td>0.084117</td>\n",
              "      <td>0.023727</td>\n",
              "      <td>-0.008350</td>\n",
              "      <td>-0.063772</td>\n",
              "      <td>0.040870</td>\n",
              "      <td>0.007151</td>\n",
              "      <td>-0.022586</td>\n",
              "      <td>0.038602</td>\n",
              "      <td>-0.058707</td>\n",
              "      <td>-0.001278</td>\n",
              "      <td>-0.088183</td>\n",
              "      <td>0.007151</td>\n",
              "      <td>-0.102050</td>\n",
              "      <td>0.040203</td>\n",
              "      <td>0.163975</td>\n",
              "      <td>0.190218</td>\n",
              "      <td>-0.015910</td>\n",
              "      <td>-0.118843</td>\n",
              "      <td>-0.028041</td>\n",
              "      <td>1.000000</td>\n",
              "      <td>-0.022334</td>\n",
              "      <td>-0.120905</td>\n",
              "      <td>-0.035790</td>\n",
              "      <td>-0.047539</td>\n",
              "      <td>-0.075139</td>\n",
              "      <td>-0.133141</td>\n",
              "    </tr>\n",
              "    <tr>\n",
              "      <th>job_type_Government Dependent</th>\n",
              "      <td>-0.046056</td>\n",
              "      <td>0.171601</td>\n",
              "      <td>0.001937</td>\n",
              "      <td>-0.001937</td>\n",
              "      <td>0.058542</td>\n",
              "      <td>-0.058542</td>\n",
              "      <td>0.023870</td>\n",
              "      <td>-0.023870</td>\n",
              "      <td>-0.017705</td>\n",
              "      <td>0.058867</td>\n",
              "      <td>-0.009285</td>\n",
              "      <td>-0.005038</td>\n",
              "      <td>-0.008717</td>\n",
              "      <td>-0.046097</td>\n",
              "      <td>-0.015830</td>\n",
              "      <td>-0.001903</td>\n",
              "      <td>-0.057149</td>\n",
              "      <td>-0.020784</td>\n",
              "      <td>0.134299</td>\n",
              "      <td>0.008820</td>\n",
              "      <td>0.088781</td>\n",
              "      <td>-0.001903</td>\n",
              "      <td>-0.035545</td>\n",
              "      <td>-0.038430</td>\n",
              "      <td>-0.007986</td>\n",
              "      <td>-0.005614</td>\n",
              "      <td>-0.007571</td>\n",
              "      <td>-0.056551</td>\n",
              "      <td>-0.013343</td>\n",
              "      <td>-0.022334</td>\n",
              "      <td>1.000000</td>\n",
              "      <td>-0.057532</td>\n",
              "      <td>-0.017031</td>\n",
              "      <td>-0.022621</td>\n",
              "      <td>-0.035755</td>\n",
              "      <td>-0.063355</td>\n",
              "    </tr>\n",
              "    <tr>\n",
              "      <th>job_type_Informally employed</th>\n",
              "      <td>0.013797</td>\n",
              "      <td>-0.089167</td>\n",
              "      <td>0.070555</td>\n",
              "      <td>-0.070555</td>\n",
              "      <td>0.008582</td>\n",
              "      <td>-0.008582</td>\n",
              "      <td>-0.052365</td>\n",
              "      <td>0.052365</td>\n",
              "      <td>0.028643</td>\n",
              "      <td>0.015958</td>\n",
              "      <td>0.037085</td>\n",
              "      <td>-0.004921</td>\n",
              "      <td>-0.036252</td>\n",
              "      <td>-0.025106</td>\n",
              "      <td>0.034561</td>\n",
              "      <td>0.005965</td>\n",
              "      <td>0.034139</td>\n",
              "      <td>-0.028979</td>\n",
              "      <td>-0.041400</td>\n",
              "      <td>0.025357</td>\n",
              "      <td>0.014951</td>\n",
              "      <td>-0.004879</td>\n",
              "      <td>0.071815</td>\n",
              "      <td>-0.055328</td>\n",
              "      <td>-0.045851</td>\n",
              "      <td>-0.062051</td>\n",
              "      <td>-0.040985</td>\n",
              "      <td>-0.306135</td>\n",
              "      <td>-0.072232</td>\n",
              "      <td>-0.120905</td>\n",
              "      <td>-0.057532</td>\n",
              "      <td>1.000000</td>\n",
              "      <td>-0.092195</td>\n",
              "      <td>-0.122459</td>\n",
              "      <td>-0.193556</td>\n",
              "      <td>-0.342966</td>\n",
              "    </tr>\n",
              "    <tr>\n",
              "      <th>job_type_No Income</th>\n",
              "      <td>-0.065247</td>\n",
              "      <td>-0.060368</td>\n",
              "      <td>-0.044953</td>\n",
              "      <td>0.044953</td>\n",
              "      <td>0.103625</td>\n",
              "      <td>-0.103625</td>\n",
              "      <td>0.072936</td>\n",
              "      <td>-0.072936</td>\n",
              "      <td>-0.017339</td>\n",
              "      <td>-0.109788</td>\n",
              "      <td>0.005864</td>\n",
              "      <td>0.045149</td>\n",
              "      <td>0.148085</td>\n",
              "      <td>0.046219</td>\n",
              "      <td>0.093487</td>\n",
              "      <td>-0.003049</td>\n",
              "      <td>-0.076005</td>\n",
              "      <td>0.026244</td>\n",
              "      <td>-0.003075</td>\n",
              "      <td>0.017835</td>\n",
              "      <td>-0.003699</td>\n",
              "      <td>-0.003049</td>\n",
              "      <td>-0.014659</td>\n",
              "      <td>0.020002</td>\n",
              "      <td>0.020017</td>\n",
              "      <td>-0.020883</td>\n",
              "      <td>-0.012132</td>\n",
              "      <td>-0.090623</td>\n",
              "      <td>-0.021382</td>\n",
              "      <td>-0.035790</td>\n",
              "      <td>-0.017031</td>\n",
              "      <td>-0.092195</td>\n",
              "      <td>1.000000</td>\n",
              "      <td>-0.036251</td>\n",
              "      <td>-0.057297</td>\n",
              "      <td>-0.101526</td>\n",
              "    </tr>\n",
              "    <tr>\n",
              "      <th>job_type_Other Income</th>\n",
              "      <td>0.062502</td>\n",
              "      <td>-0.014707</td>\n",
              "      <td>-0.011042</td>\n",
              "      <td>0.011042</td>\n",
              "      <td>0.006944</td>\n",
              "      <td>-0.006944</td>\n",
              "      <td>0.011060</td>\n",
              "      <td>-0.011060</td>\n",
              "      <td>-0.003714</td>\n",
              "      <td>-0.012966</td>\n",
              "      <td>0.007552</td>\n",
              "      <td>0.022550</td>\n",
              "      <td>0.017748</td>\n",
              "      <td>-0.001327</td>\n",
              "      <td>-0.012919</td>\n",
              "      <td>-0.004050</td>\n",
              "      <td>0.032808</td>\n",
              "      <td>-0.032248</td>\n",
              "      <td>0.008298</td>\n",
              "      <td>-0.001442</td>\n",
              "      <td>-0.011696</td>\n",
              "      <td>0.017992</td>\n",
              "      <td>-0.029475</td>\n",
              "      <td>0.048394</td>\n",
              "      <td>-0.005657</td>\n",
              "      <td>0.009078</td>\n",
              "      <td>-0.016115</td>\n",
              "      <td>-0.120371</td>\n",
              "      <td>-0.028401</td>\n",
              "      <td>-0.047539</td>\n",
              "      <td>-0.022621</td>\n",
              "      <td>-0.122459</td>\n",
              "      <td>-0.036251</td>\n",
              "      <td>1.000000</td>\n",
              "      <td>-0.076105</td>\n",
              "      <td>-0.134853</td>\n",
              "    </tr>\n",
              "    <tr>\n",
              "      <th>job_type_Remittance Dependent</th>\n",
              "      <td>0.008741</td>\n",
              "      <td>-0.057696</td>\n",
              "      <td>-0.053887</td>\n",
              "      <td>0.053887</td>\n",
              "      <td>0.083344</td>\n",
              "      <td>-0.083344</td>\n",
              "      <td>0.120121</td>\n",
              "      <td>-0.120121</td>\n",
              "      <td>0.197010</td>\n",
              "      <td>-0.152765</td>\n",
              "      <td>-0.000452</td>\n",
              "      <td>0.093199</td>\n",
              "      <td>0.025468</td>\n",
              "      <td>-0.005434</td>\n",
              "      <td>-0.007789</td>\n",
              "      <td>0.001051</td>\n",
              "      <td>-0.123950</td>\n",
              "      <td>0.107198</td>\n",
              "      <td>0.041482</td>\n",
              "      <td>-0.003649</td>\n",
              "      <td>0.003506</td>\n",
              "      <td>-0.006402</td>\n",
              "      <td>-0.115545</td>\n",
              "      <td>0.125174</td>\n",
              "      <td>0.031870</td>\n",
              "      <td>0.008157</td>\n",
              "      <td>-0.025471</td>\n",
              "      <td>-0.190255</td>\n",
              "      <td>-0.044891</td>\n",
              "      <td>-0.075139</td>\n",
              "      <td>-0.035755</td>\n",
              "      <td>-0.193556</td>\n",
              "      <td>-0.057297</td>\n",
              "      <td>-0.076105</td>\n",
              "      <td>1.000000</td>\n",
              "      <td>-0.213145</td>\n",
              "    </tr>\n",
              "    <tr>\n",
              "      <th>job_type_Self employed</th>\n",
              "      <td>-0.163493</td>\n",
              "      <td>0.000349</td>\n",
              "      <td>-0.294831</td>\n",
              "      <td>0.294831</td>\n",
              "      <td>0.055129</td>\n",
              "      <td>-0.055129</td>\n",
              "      <td>-0.035495</td>\n",
              "      <td>0.035495</td>\n",
              "      <td>-0.130870</td>\n",
              "      <td>0.060692</td>\n",
              "      <td>-0.038258</td>\n",
              "      <td>-0.028507</td>\n",
              "      <td>0.031133</td>\n",
              "      <td>0.021789</td>\n",
              "      <td>0.014847</td>\n",
              "      <td>-0.000999</td>\n",
              "      <td>-0.135744</td>\n",
              "      <td>0.175639</td>\n",
              "      <td>-0.061622</td>\n",
              "      <td>-0.009582</td>\n",
              "      <td>-0.058234</td>\n",
              "      <td>-0.000999</td>\n",
              "      <td>0.108263</td>\n",
              "      <td>-0.067093</td>\n",
              "      <td>-0.005898</td>\n",
              "      <td>-0.020030</td>\n",
              "      <td>-0.045133</td>\n",
              "      <td>-0.337117</td>\n",
              "      <td>-0.079543</td>\n",
              "      <td>-0.133141</td>\n",
              "      <td>-0.063355</td>\n",
              "      <td>-0.342966</td>\n",
              "      <td>-0.101526</td>\n",
              "      <td>-0.134853</td>\n",
              "      <td>-0.213145</td>\n",
              "      <td>1.000000</td>\n",
              "    </tr>\n",
              "  </tbody>\n",
              "</table>\n",
              "</div>"
            ],
            "text/plain": [
              "                                                 household_size  ...  job_type_Self employed\n",
              "household_size                                         1.000000  ...               -0.163493\n",
              "age_of_respondent                                     -0.119547  ...                0.000349\n",
              "location_type_Rural                                    0.274296  ...               -0.294831\n",
              "location_type_Urban                                   -0.274296  ...                0.294831\n",
              "cellphone_access_No                                   -0.098881  ...                0.055129\n",
              "cellphone_access_Yes                                   0.098881  ...               -0.055129\n",
              "gender_of_respondent_Female                           -0.011383  ...               -0.035495\n",
              "gender_of_respondent_Male                              0.011383  ...                0.035495\n",
              "relationship_with_head_Child                           0.204176  ...               -0.130870\n",
              "relationship_with_head_Head of Household              -0.243987  ...                0.060692\n",
              "relationship_with_head_Other non-relatives             0.020907  ...               -0.038258\n",
              "relationship_with_head_Other relative                  0.014008  ...               -0.028507\n",
              "relationship_with_head_Parent                          0.042549  ...                0.031133\n",
              "relationship_with_head_Spouse                          0.108472  ...                0.021789\n",
              "marital_status_Divorced/Seperated                     -0.129591  ...                0.014847\n",
              "marital_status_Dont know                              -0.008562  ...               -0.000999\n",
              "marital_status_Married/Living together                 0.345318  ...               -0.135744\n",
              "marital_status_Single/Never Married                   -0.182147  ...                0.175639\n",
              "marital_status_Widowed                                -0.153653  ...               -0.061622\n",
              "education_level_6                                      0.001970  ...               -0.009582\n",
              "education_level_No formal education                   -0.007242  ...               -0.058234\n",
              "education_level_Other/Dont know/RTA                    0.004595  ...               -0.000999\n",
              "education_level_Primary education                     -0.024481  ...                0.108263\n",
              "education_level_Secondary education                    0.103938  ...               -0.067093\n",
              "education_level_Tertiary education                    -0.095953  ...               -0.005898\n",
              "education_level_Vocational/Specialised training       -0.023432  ...               -0.020030\n",
              "job_type_Dont Know/Refuse to answer                    0.024036  ...               -0.045133\n",
              "job_type_Farming and Fishing                           0.187667  ...               -0.337117\n",
              "job_type_Formally employed Government                  0.002626  ...               -0.079543\n",
              "job_type_Formally employed Private                    -0.071350  ...               -0.133141\n",
              "job_type_Government Dependent                         -0.046056  ...               -0.063355\n",
              "job_type_Informally employed                           0.013797  ...               -0.342966\n",
              "job_type_No Income                                    -0.065247  ...               -0.101526\n",
              "job_type_Other Income                                  0.062502  ...               -0.134853\n",
              "job_type_Remittance Dependent                          0.008741  ...               -0.213145\n",
              "job_type_Self employed                                -0.163493  ...                1.000000\n",
              "\n",
              "[36 rows x 36 columns]"
            ]
          },
          "metadata": {
            "tags": []
          },
          "execution_count": 66
        }
      ]
    },
    {
      "cell_type": "code",
      "metadata": {
        "id": "AHxvHUoloC8i",
        "colab_type": "code",
        "colab": {
          "base_uri": "https://localhost:8080/",
          "height": 493
        },
        "outputId": "9f1c4a1f-4901-444f-9f94-b7623120fe2e"
      },
      "source": [
        "sns.heatmap(X.corr())"
      ],
      "execution_count": 67,
      "outputs": [
        {
          "output_type": "execute_result",
          "data": {
            "text/plain": [
              "<matplotlib.axes._subplots.AxesSubplot at 0x7fcbe7c09320>"
            ]
          },
          "metadata": {
            "tags": []
          },
          "execution_count": 67
        },
        {
          "output_type": "display_data",
          "data": {
            "image/png": "[encoded data removed]",
            "text/plain": [
              "<Figure size 432x288 with 2 Axes>"
            ]
          },
          "metadata": {
            "tags": []
          }
        }
      ]
    },
    {
      "cell_type": "code",
      "metadata": {
        "id": "C0RMADsZoJtm",
        "colab_type": "code",
        "colab": {}
      },
      "source": [
        "#We then create and train the model by fitting the linear regression model on the training data.\n",
        "lm = LinearRegression()\n",
        "results = lm.fit(X_train,y_train)"
      ],
      "execution_count": 0,
      "outputs": []
    },
    {
      "cell_type": "code",
      "metadata": {
        "id": "I4UQ20ypofS2",
        "colab_type": "code",
        "colab": {}
      },
      "source": [
        "#Grabbing predictions off the test set and see how well it did\n",
        "predictions = lm.predict(X_test)"
      ],
      "execution_count": 0,
      "outputs": []
    },
    {
      "cell_type": "code",
      "metadata": {
        "id": "yOP9mQnFo29g",
        "colab_type": "code",
        "colab": {
          "base_uri": "https://localhost:8080/",
          "height": 1000
        },
        "outputId": "09f26319-06bd-481a-fad5-f09fb36d8686"
      },
      "source": [
        "\n",
        "X2 = sm.add_constant(X.values)  \n",
        "model = sm.OLS(y, X2).fit()  \n",
        "print(model.summary())"
      ],
      "execution_count": 70,
      "outputs": [
        {
          "output_type": "stream",
          "text": [
            "                            OLS Regression Results                            \n",
            "==============================================================================\n",
            "Dep. Variable:                      y   R-squared:                       0.249\n",
            "Model:                            OLS   Adj. R-squared:                  0.248\n",
            "Method:                 Least Squares   F-statistic:                     268.3\n",
            "Date:                Tue, 13 Aug 2019   Prob (F-statistic):               0.00\n",
            "Time:                        01:58:52   Log-Likelihood:                -5164.5\n",
            "No. Observations:               23488   AIC:                         1.039e+04\n",
            "Df Residuals:                   23458   BIC:                         1.063e+04\n",
            "Df Model:                          29                                         \n",
            "Covariance Type:            nonrobust                                         \n",
            "==============================================================================\n",
            "                 coef    std err          t      P>|t|      [0.025      0.975]\n",
            "------------------------------------------------------------------------------\n",
            "const          0.0831      0.009      8.855      0.000       0.065       0.101\n",
            "x1             0.0005      0.001      0.451      0.652      -0.002       0.002\n",
            "x2             0.0013      0.000      8.328      0.000       0.001       0.002\n",
            "x3             0.0200      0.005      3.801      0.000       0.010       0.030\n",
            "x4             0.0631      0.005     12.124      0.000       0.053       0.073\n",
            "x5            -0.0004      0.005     -0.071      0.943      -0.011       0.010\n",
            "x6             0.0834      0.005     16.134      0.000       0.073       0.094\n",
            "x7             0.0247      0.005      4.704      0.000       0.014       0.035\n",
            "x8             0.0583      0.005     10.609      0.000       0.048       0.069\n",
            "x9             0.0149      0.008      1.967      0.049    5.48e-05       0.030\n",
            "x10            0.0664      0.006     10.950      0.000       0.055       0.078\n",
            "x11           -0.0188      0.019     -0.995      0.320      -0.056       0.018\n",
            "x12           -0.0062      0.011     -0.579      0.563      -0.027       0.015\n",
            "x13           -0.0150      0.009     -1.634      0.102      -0.033       0.003\n",
            "x14            0.0418      0.007      6.158      0.000       0.028       0.055\n",
            "x15           -0.0245      0.021     -1.176      0.240      -0.065       0.016\n",
            "x16            0.0943      0.087      1.086      0.277      -0.076       0.264\n",
            "x17            0.0330      0.020      1.616      0.106      -0.007       0.073\n",
            "x18           -0.0203      0.020     -1.000      0.317      -0.060       0.020\n",
            "x19            0.0007      0.021      0.031      0.975      -0.041       0.042\n",
            "x20           -0.0901      0.052     -1.720      0.085      -0.193       0.013\n",
            "x21           -0.2273      0.017    -13.087      0.000      -0.261      -0.193\n",
            "x22            0.2971      0.093      3.209      0.001       0.116       0.479\n",
            "x23           -0.1809      0.017    -10.672      0.000      -0.214      -0.148\n",
            "x24           -0.0469      0.017     -2.719      0.007      -0.081      -0.013\n",
            "x25            0.1583      0.018      8.565      0.000       0.122       0.194\n",
            "x26            0.1728      0.019      9.031      0.000       0.135       0.210\n",
            "x27           -0.0710      0.025     -2.895      0.004      -0.119      -0.023\n",
            "x28           -0.0650      0.006    -10.984      0.000      -0.077      -0.053\n",
            "x29            0.3437      0.015     23.164      0.000       0.315       0.373\n",
            "x30            0.2020      0.010     20.913      0.000       0.183       0.221\n",
            "x31            0.0398      0.018      2.197      0.028       0.004       0.075\n",
            "x32           -0.0896      0.006    -15.891      0.000      -0.101      -0.079\n",
            "x33           -0.1115      0.012     -9.370      0.000      -0.135      -0.088\n",
            "x34           -0.0229      0.009     -2.471      0.013      -0.041      -0.005\n",
            "x35           -0.0860      0.007    -12.305      0.000      -0.100      -0.072\n",
            "x36           -0.0565      0.006    -10.117      0.000      -0.067      -0.046\n",
            "==============================================================================\n",
            "Omnibus:                     6941.472   Durbin-Watson:                   1.972\n",
            "Prob(Omnibus):                  0.000   Jarque-Bera (JB):            17708.254\n",
            "Skew:                           1.629   Prob(JB):                         0.00\n",
            "Kurtosis:                       5.736   Cond. No.                     1.41e+16\n",
            "==============================================================================\n",
            "\n",
            "Warnings:\n",
            "[1] Standard Errors assume that the covariance matrix of the errors is correctly specified.\n",
            "[2] The smallest eigenvalue is 2.13e-25. This might indicate that there are\n",
            "strong multicollinearity problems or that the design matrix is singular.\n"
          ],
          "name": "stdout"
        }
      ]
    },
    {
      "cell_type": "code",
      "metadata": {
        "id": "xaA0QHxI182w",
        "colab_type": "code",
        "colab": {}
      },
      "source": [
        "#this model is not appropriate for modelling this kind of data. having assumed that there exists a linear relationship the relationship is too weak and absent in most variables \n",
        "#therefore yields a very poor model looking at the rsquared and adjusted -squared "
      ],
      "execution_count": 0,
      "outputs": []
    },
    {
      "cell_type": "markdown",
      "metadata": {
        "id": "BxE1lynYnKps",
        "colab_type": "text"
      },
      "source": [
        "**Linear** **Discriminant** **Analysis**"
      ]
    },
    {
      "cell_type": "code",
      "metadata": {
        "id": "SqoirUU7cR6I",
        "colab_type": "code",
        "colab": {}
      },
      "source": [
        "from sklearn.discriminant_analysis import LinearDiscriminantAnalysis as LDA\n",
        "lda = LDA(n_components=1)\n",
        "X_train = lda.fit_transform(X_train, y_train)\n",
        "X_test = lda.transform(X_test)"
      ],
      "execution_count": 0,
      "outputs": []
    },
    {
      "cell_type": "code",
      "metadata": {
        "id": "vNmqlOGEca6p",
        "colab_type": "code",
        "colab": {
          "base_uri": "https://localhost:8080/",
          "height": 71
        },
        "outputId": "d66ed756-bbca-4f65-9d66-7d0c1739f746"
      },
      "source": [
        "# Training and Making Predictions\n",
        "# We will use the random forest classifier to evaluate the performance of a PCA-reduced algorithms as shown\n",
        "# \n",
        "\n",
        "from sklearn.ensemble import RandomForestClassifier\n",
        "\n",
        "classifier = RandomForestClassifier(max_depth=2, random_state=0)\n",
        "classifier.fit(X_train, y_train)\n",
        "y_pred = classifier.predict(X_test)"
      ],
      "execution_count": 71,
      "outputs": [
        {
          "output_type": "stream",
          "text": [
            "/usr/local/lib/python3.6/dist-packages/sklearn/ensemble/forest.py:245: FutureWarning: The default value of n_estimators will change from 10 in version 0.20 to 100 in 0.22.\n",
            "  \"10 in version 0.20 to 100 in 0.22.\", FutureWarning)\n"
          ],
          "name": "stderr"
        }
      ]
    },
    {
      "cell_type": "code",
      "metadata": {
        "id": "fvRHuYEEcmbA",
        "colab_type": "code",
        "colab": {
          "base_uri": "https://localhost:8080/",
          "height": 68
        },
        "outputId": "93725091-e066-4c61-9eb0-e2dbf63a3c7d"
      },
      "source": [
        "# Evaluating the Performance\n",
        "# As always, the last step is to evaluate performance of the algorithm \n",
        "# with the help of a confusion matrix and find the accuracy of the prediction.\n",
        "# \n",
        "\n",
        "from sklearn.metrics import confusion_matrix\n",
        "from sklearn.metrics import accuracy_score\n",
        "\n",
        "cm = confusion_matrix(y_test, y_pred)\n",
        "print(cm)\n",
        "print('Accuracy' + str(accuracy_score(y_test, y_pred)))"
      ],
      "execution_count": 72,
      "outputs": [
        {
          "output_type": "stream",
          "text": [
            "[[4026    2]\n",
            " [ 662    8]]\n",
            "Accuracy0.8586632609621115\n"
          ],
          "name": "stdout"
        }
      ]
    },
    {
      "cell_type": "code",
      "metadata": {
        "id": "g8-C_Se3dC5U",
        "colab_type": "code",
        "colab": {}
      },
      "source": [
        "#we can also try pca\n",
        "from sklearn.decomposition import PCA\n",
        "\n",
        "pca = PCA()\n",
        "X_train = pca.fit_transform(X_train)\n",
        "X_test = pca.transform(X_test)"
      ],
      "execution_count": 0,
      "outputs": []
    },
    {
      "cell_type": "code",
      "metadata": {
        "id": "hbP4a9AWdPFb",
        "colab_type": "code",
        "colab": {}
      },
      "source": [
        "# Using 1 Principal Component\n",
        "# Let's first try to use 1 principal component to train our algorithm. To do so, execute the following code:\n",
        "# \n",
        "from sklearn.decomposition import PCA\n",
        "\n",
        "pca = PCA(n_components=23)\n",
        "X_train = pca.fit_transform(X_train)\n",
        "X_test = pca.transform(X_test)"
      ],
      "execution_count": 0,
      "outputs": []
    },
    {
      "cell_type": "code",
      "metadata": {
        "id": "8HSrb_9Sdfxz",
        "colab_type": "code",
        "colab": {
          "base_uri": "https://localhost:8080/",
          "height": 71
        },
        "outputId": "84d90be3-1ae6-4564-812b-239faf313811"
      },
      "source": [
        "#Training and Making Predictions\n",
        "# In this case we'll use random forest classification for making the predictions.\n",
        "# \n",
        "from sklearn.ensemble import RandomForestClassifier\n",
        "\n",
        "classifier = RandomForestClassifier(max_depth=2, random_state=0)\n",
        "classifier.fit(X_train, y_train)\n",
        "\n",
        "# Predicting the Test set results\n",
        "y_pred = classifier.predict(X_test)"
      ],
      "execution_count": 76,
      "outputs": [
        {
          "output_type": "stream",
          "text": [
            "/usr/local/lib/python3.6/dist-packages/sklearn/ensemble/forest.py:245: FutureWarning: The default value of n_estimators will change from 10 in version 0.20 to 100 in 0.22.\n",
            "  \"10 in version 0.20 to 100 in 0.22.\", FutureWarning)\n"
          ],
          "name": "stderr"
        }
      ]
    },
    {
      "cell_type": "code",
      "metadata": {
        "id": "alPiVph2drZo",
        "colab_type": "code",
        "colab": {
          "base_uri": "https://localhost:8080/",
          "height": 68
        },
        "outputId": "492de8bc-07dc-4896-9f25-946471c9a050"
      },
      "source": [
        "#Performance Evaluation\n",
        "# \n",
        "from sklearn.metrics import confusion_matrix\n",
        "from sklearn.metrics import accuracy_score\n",
        "\n",
        "cm = confusion_matrix(y_test, y_pred)\n",
        "print(cm)\n",
        "print(accuracy_score(y_test, y_pred))\n"
      ],
      "execution_count": 77,
      "outputs": [
        {
          "output_type": "stream",
          "text": [
            "[[4012   16]\n",
            " [ 567  103]]\n",
            "0.8759046402724564\n"
          ],
          "name": "stdout"
        }
      ]
    },
    {
      "cell_type": "code",
      "metadata": {
        "id": "NR0SsvSBdfts",
        "colab_type": "code",
        "colab": {}
      },
      "source": [
        "#from the above methods we attained an accuracy of 88%\n",
        "#our data was sufficient.\n",
        "#the data was relevant for our prediction"
      ],
      "execution_count": 0,
      "outputs": []
    },
    {
      "cell_type": "code",
      "metadata": {
        "id": "Z5jq2B63dfrX",
        "colab_type": "code",
        "colab": {}
      },
      "source": [
        ""
      ],
      "execution_count": 0,
      "outputs": []
    }
  ]
}